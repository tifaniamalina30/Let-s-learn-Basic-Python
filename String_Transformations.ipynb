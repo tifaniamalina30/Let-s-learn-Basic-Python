{
  "nbformat": 4,
  "nbformat_minor": 0,
  "metadata": {
    "colab": {
      "name": "String Transformations.ipynb",
      "provenance": [],
      "collapsed_sections": []
    },
    "kernelspec": {
      "name": "python3",
      "display_name": "Python 3"
    },
    "language_info": {
      "name": "python"
    }
  },
  "cells": [
    {
      "cell_type": "markdown",
      "source": [
        "This notebook is created by **Sintaks Group**, with the following members:\n",
        "1. Hasballah Askar\n",
        "2. Galang Setia Nugroho\n",
        "3. Khalishah Fiddina\n",
        "4. Tifani Amalina\n",
        "5. Muhammad Ilham Hakiqi"
      ],
      "metadata": {
        "id": "3Q3eeozlvccZ"
      }
    },
    {
      "cell_type": "markdown",
      "source": [
        "## **String Transformations**\n",
        "In this notebook, we will show you about String Transformations. Python provides several methods to transform text/string data. <br>These are 6 useful string transformations in Python:\n",
        "* lower()\n",
        "* upper()\n",
        "* title()\n",
        "* lstrip()\n",
        "* rstrip()\n",
        "* strip()"
      ],
      "metadata": {
        "id": "rA9xfjWp3GDK"
      }
    },
    {
      "cell_type": "markdown",
      "source": [
        "### **lower()**\n",
        "The **lower()** method returns a string where all characters are lowercase. It converts all uppercase characters from the given string into lowercase. If the given string doesn't contain any uppercase characters, it returns the original string. This method ignores any Symbols and Numbers."
      ],
      "metadata": {
        "id": "Q0faAuxE7M7n"
      }
    },
    {
      "cell_type": "code",
      "source": [
        "# assign string to a variable\n",
        "my_string = \"Data SCIENCE - Lesson 01\"\n",
        "my_string"
      ],
      "metadata": {
        "colab": {
          "base_uri": "https://localhost:8080/",
          "height": 35
        },
        "id": "UaQbBDdx9Gs5",
        "outputId": "f3666222-7596-40d6-c66e-0f5b63eeefe5"
      },
      "execution_count": 1,
      "outputs": [
        {
          "output_type": "execute_result",
          "data": {
            "text/plain": [
              "'Data SCIENCE - Lesson 01'"
            ],
            "application/vnd.google.colaboratory.intrinsic+json": {
              "type": "string"
            }
          },
          "metadata": {},
          "execution_count": 1
        }
      ]
    },
    {
      "cell_type": "markdown",
      "source": [
        "To use lower() method, follow this syntax: **_string_.lower()**"
      ],
      "metadata": {
        "id": "UG8O_fzs-iCw"
      }
    },
    {
      "cell_type": "code",
      "source": [
        "# convert to lowercase\n",
        "my_string.lower()"
      ],
      "metadata": {
        "colab": {
          "base_uri": "https://localhost:8080/",
          "height": 35
        },
        "id": "LjHzH3pB9rvy",
        "outputId": "988367fa-d355-49e1-a0fa-026a8e8300fc"
      },
      "execution_count": 2,
      "outputs": [
        {
          "output_type": "execute_result",
          "data": {
            "text/plain": [
              "'data science - lesson 01'"
            ],
            "application/vnd.google.colaboratory.intrinsic+json": {
              "type": "string"
            }
          },
          "metadata": {},
          "execution_count": 2
        }
      ]
    },
    {
      "cell_type": "markdown",
      "source": [
        "As you can see, string value in _my_string_ that's originally written as 'Data SCIENCE - Lesson 01' transformed into 'data science - lesson 01'. And as mentioned before, this method wont make any changes to any symbols and numbers."
      ],
      "metadata": {
        "id": "y4zOrsJ4AQn9"
      }
    },
    {
      "cell_type": "markdown",
      "source": [
        "### **upper()**\n",
        "The **upper()** method returns a string where all characters are uppercase. It converts all lowercase characters from the given string into uppercase. If the given string doesn't contain any lowercase characters, it returns the original string. This method ignores any Symbols and Numbers."
      ],
      "metadata": {
        "id": "esjrMBApEQmL"
      }
    },
    {
      "cell_type": "code",
      "source": [
        "# assign string to a variable\n",
        "my_string2 = \"data science - LESSON 02\"\n",
        "my_string2"
      ],
      "metadata": {
        "colab": {
          "base_uri": "https://localhost:8080/",
          "height": 35
        },
        "outputId": "b5b924bd-a49a-4845-d34d-06e5211bd008",
        "id": "GppVRm3GEn3u"
      },
      "execution_count": 3,
      "outputs": [
        {
          "output_type": "execute_result",
          "data": {
            "text/plain": [
              "'data science - LESSON 02'"
            ],
            "application/vnd.google.colaboratory.intrinsic+json": {
              "type": "string"
            }
          },
          "metadata": {},
          "execution_count": 3
        }
      ]
    },
    {
      "cell_type": "markdown",
      "source": [
        "To use upper() method, follow this syntax: **_string_.upper()**"
      ],
      "metadata": {
        "id": "hbq9PU32F_5C"
      }
    },
    {
      "cell_type": "code",
      "source": [
        "# convert to uppercase\n",
        "my_string2.upper()"
      ],
      "metadata": {
        "colab": {
          "base_uri": "https://localhost:8080/",
          "height": 35
        },
        "outputId": "4cc44c24-b24c-4b37-dd1d-41117881ba0c",
        "id": "891m0VaAG7mn"
      },
      "execution_count": 4,
      "outputs": [
        {
          "output_type": "execute_result",
          "data": {
            "text/plain": [
              "'DATA SCIENCE - LESSON 02'"
            ],
            "application/vnd.google.colaboratory.intrinsic+json": {
              "type": "string"
            }
          },
          "metadata": {},
          "execution_count": 4
        }
      ]
    },
    {
      "cell_type": "markdown",
      "source": [
        "As you can see, string value in _my_string2_ that's originally written as 'data science - LESSON 02' transformed into 'DATA SCIENCE - LESSON 01'. And as mentioned before, this method wont make any changes to any symbols and numbers."
      ],
      "metadata": {
        "id": "UvfV10qXGj3Q"
      }
    },
    {
      "cell_type": "markdown",
      "source": [
        "### **title()**\n",
        "The **title()** method returns a string where the first character in every word is uppercase. It converts the first character of each word from the given string into uppercase. If the word contains a number or a symbol, the first letter after that will be converted to uppercase. Any Symbols and Numbers are ignored."
      ],
      "metadata": {
        "id": "OmKML0ltIFDD"
      }
    },
    {
      "cell_type": "code",
      "source": [
        "# assign string to a variable\n",
        "my_string3 = \"data science 3step\"\n",
        "my_string3"
      ],
      "metadata": {
        "colab": {
          "base_uri": "https://localhost:8080/",
          "height": 35
        },
        "outputId": "9a632346-4426-44a8-8041-ee97685f596b",
        "id": "b4OtzylDIFDD"
      },
      "execution_count": 5,
      "outputs": [
        {
          "output_type": "execute_result",
          "data": {
            "text/plain": [
              "'data science 3step'"
            ],
            "application/vnd.google.colaboratory.intrinsic+json": {
              "type": "string"
            }
          },
          "metadata": {},
          "execution_count": 5
        }
      ]
    },
    {
      "cell_type": "markdown",
      "source": [
        "To use title() method, follow this syntax: **_string_.title()**"
      ],
      "metadata": {
        "id": "p4tkwhx2IFDD"
      }
    },
    {
      "cell_type": "code",
      "source": [
        "# convert to lowercase\n",
        "my_string3.title()"
      ],
      "metadata": {
        "colab": {
          "base_uri": "https://localhost:8080/",
          "height": 35
        },
        "outputId": "22df1eb5-2499-42e2-a2bc-9a8a0e7e6aa1",
        "id": "JdpwZCwcIFDE"
      },
      "execution_count": 6,
      "outputs": [
        {
          "output_type": "execute_result",
          "data": {
            "text/plain": [
              "'Data Science 3Step'"
            ],
            "application/vnd.google.colaboratory.intrinsic+json": {
              "type": "string"
            }
          },
          "metadata": {},
          "execution_count": 6
        }
      ]
    },
    {
      "cell_type": "markdown",
      "source": [
        "As you can see, string value in _my_string3_ that's originally written as 'data science 3step' transformed into 'Data Science 3Step'. And as mentioned before, the first letter after a number or a symbol will be converted to uppercase."
      ],
      "metadata": {
        "id": "o9BGnXOpIFDE"
      }
    },
    {
      "cell_type": "markdown",
      "source": [
        "### **lstrip()**\n",
        "The **lstrip()** method returns a string with all the leading characters removed. It removes leading whitespaces from **left** side of the string. Space is the default leading character to remove."
      ],
      "metadata": {
        "id": "2ccy84hXqw4y"
      }
    },
    {
      "cell_type": "markdown",
      "source": [
        "To use lstrip() method, follow this syntax: **_string_.lstrip()**"
      ],
      "metadata": {
        "id": "lc1PjY5rvWL6"
      }
    },
    {
      "cell_type": "code",
      "source": [
        "\"          the right side\""
      ],
      "metadata": {
        "colab": {
          "base_uri": "https://localhost:8080/",
          "height": 35
        },
        "id": "ddwrN-EQtEwn",
        "outputId": "88a6b939-7f50-431c-ef96-140ee96c61d7"
      },
      "execution_count": 7,
      "outputs": [
        {
          "output_type": "execute_result",
          "data": {
            "text/plain": [
              "'          the right side'"
            ],
            "application/vnd.google.colaboratory.intrinsic+json": {
              "type": "string"
            }
          },
          "metadata": {},
          "execution_count": 7
        }
      ]
    },
    {
      "cell_type": "code",
      "source": [
        "\"          the right side\".lstrip()"
      ],
      "metadata": {
        "colab": {
          "base_uri": "https://localhost:8080/",
          "height": 35
        },
        "id": "x4nzubD3tpjU",
        "outputId": "070b6f1e-1d6c-41ae-808c-908833b62980"
      },
      "execution_count": 8,
      "outputs": [
        {
          "output_type": "execute_result",
          "data": {
            "text/plain": [
              "'the right side'"
            ],
            "application/vnd.google.colaboratory.intrinsic+json": {
              "type": "string"
            }
          },
          "metadata": {},
          "execution_count": 8
        }
      ]
    },
    {
      "cell_type": "markdown",
      "source": [
        "You can also set any characters to remove as the leading characters by following this syntax: **_string_.lstrip(_characters_)**"
      ],
      "metadata": {
        "id": "hBsHnOBktwUZ"
      }
    },
    {
      "cell_type": "code",
      "source": [
        "\".....-----the right side\""
      ],
      "metadata": {
        "colab": {
          "base_uri": "https://localhost:8080/",
          "height": 35
        },
        "outputId": "4362f80e-fb7c-4ef7-99d4-d6a542be9960",
        "id": "4SsSJ4BSqw4z"
      },
      "execution_count": 11,
      "outputs": [
        {
          "output_type": "execute_result",
          "data": {
            "text/plain": [
              "'.....-----the right side'"
            ],
            "application/vnd.google.colaboratory.intrinsic+json": {
              "type": "string"
            }
          },
          "metadata": {},
          "execution_count": 11
        }
      ]
    },
    {
      "cell_type": "code",
      "source": [
        "\".....-----the right side\".lstrip(\".-\")"
      ],
      "metadata": {
        "colab": {
          "base_uri": "https://localhost:8080/",
          "height": 35
        },
        "id": "YPT2uZ6Zuo7P",
        "outputId": "69b21475-4082-421b-ebe5-2ab397ac5fcd"
      },
      "execution_count": 12,
      "outputs": [
        {
          "output_type": "execute_result",
          "data": {
            "text/plain": [
              "'the right side'"
            ],
            "application/vnd.google.colaboratory.intrinsic+json": {
              "type": "string"
            }
          },
          "metadata": {},
          "execution_count": 12
        }
      ]
    },
    {
      "cell_type": "markdown",
      "source": [
        "As you can see, the method returns a left trim version of the string."
      ],
      "metadata": {
        "id": "RVAX-kNGqw40"
      }
    },
    {
      "cell_type": "markdown",
      "source": [
        "### **rstrip()**\n",
        "The **rstrip()** method returns a string with all the trailing characters removed. It removes trailing whitespaces from **right** side of the string. Space is the default trailing character to remove."
      ],
      "metadata": {
        "id": "enxLQ44Yv0A3"
      }
    },
    {
      "cell_type": "markdown",
      "source": [
        "To use rstrip() method, follow this syntax: **_string_.rstrip()**"
      ],
      "metadata": {
        "id": "NJzSQuNSv0A3"
      }
    },
    {
      "cell_type": "code",
      "source": [
        "\"the left side          \""
      ],
      "metadata": {
        "colab": {
          "base_uri": "https://localhost:8080/",
          "height": 35
        },
        "outputId": "5efd929e-3ef6-41d4-b128-2d1cc3dfc86c",
        "id": "QUAkh0nBv0A3"
      },
      "execution_count": 13,
      "outputs": [
        {
          "output_type": "execute_result",
          "data": {
            "text/plain": [
              "'the left side          '"
            ],
            "application/vnd.google.colaboratory.intrinsic+json": {
              "type": "string"
            }
          },
          "metadata": {},
          "execution_count": 13
        }
      ]
    },
    {
      "cell_type": "code",
      "source": [
        "\"the left side          \".rstrip()"
      ],
      "metadata": {
        "colab": {
          "base_uri": "https://localhost:8080/",
          "height": 35
        },
        "outputId": "71c46d0e-64f8-46d2-e5e4-83148ca6399f",
        "id": "YaH7vOs6v0A4"
      },
      "execution_count": 14,
      "outputs": [
        {
          "output_type": "execute_result",
          "data": {
            "text/plain": [
              "'the left side'"
            ],
            "application/vnd.google.colaboratory.intrinsic+json": {
              "type": "string"
            }
          },
          "metadata": {},
          "execution_count": 14
        }
      ]
    },
    {
      "cell_type": "markdown",
      "source": [
        "You can also set any characters to remove as the trailing characters by following this syntax: **_string_.rstrip(_characters_)**"
      ],
      "metadata": {
        "id": "kfKboLZAv0A4"
      }
    },
    {
      "cell_type": "code",
      "source": [
        "\"the left side-----.....\""
      ],
      "metadata": {
        "colab": {
          "base_uri": "https://localhost:8080/",
          "height": 35
        },
        "outputId": "27263b8d-af7c-49e0-8c57-565304e3b284",
        "id": "Zz5cD5jSv0A4"
      },
      "execution_count": 15,
      "outputs": [
        {
          "output_type": "execute_result",
          "data": {
            "text/plain": [
              "'the left side-----.....'"
            ],
            "application/vnd.google.colaboratory.intrinsic+json": {
              "type": "string"
            }
          },
          "metadata": {},
          "execution_count": 15
        }
      ]
    },
    {
      "cell_type": "code",
      "source": [
        "\"the left side-----.....\".rstrip(\".-\")"
      ],
      "metadata": {
        "colab": {
          "base_uri": "https://localhost:8080/",
          "height": 35
        },
        "outputId": "a67cbe5e-d1ad-41a1-935b-99598de1efe4",
        "id": "bOAwXLR-v0A5"
      },
      "execution_count": 16,
      "outputs": [
        {
          "output_type": "execute_result",
          "data": {
            "text/plain": [
              "'the left side'"
            ],
            "application/vnd.google.colaboratory.intrinsic+json": {
              "type": "string"
            }
          },
          "metadata": {},
          "execution_count": 16
        }
      ]
    },
    {
      "cell_type": "markdown",
      "source": [
        "As you can see, the method returns a right trim version of the string."
      ],
      "metadata": {
        "id": "NQIBFmsBv0A5"
      }
    },
    {
      "cell_type": "markdown",
      "source": [
        "### **strip()**\n",
        "The **strip()** method returns a string with all the leading and trailing characters removed. It removes any whitespaces from **left and right** side of the string. Space is the default character to remove."
      ],
      "metadata": {
        "id": "TTMrSLmZwu8G"
      }
    },
    {
      "cell_type": "markdown",
      "source": [
        "To use strip() method, follow this syntax: **_string_.strip()**"
      ],
      "metadata": {
        "id": "R4wWS_r_wu8G"
      }
    },
    {
      "cell_type": "code",
      "source": [
        "\"          the middle side          \""
      ],
      "metadata": {
        "colab": {
          "base_uri": "https://localhost:8080/",
          "height": 35
        },
        "outputId": "11535779-ec24-414e-ddd6-86bff17e25e8",
        "id": "5K4iIvdXwu8H"
      },
      "execution_count": 17,
      "outputs": [
        {
          "output_type": "execute_result",
          "data": {
            "text/plain": [
              "'          the middle side          '"
            ],
            "application/vnd.google.colaboratory.intrinsic+json": {
              "type": "string"
            }
          },
          "metadata": {},
          "execution_count": 17
        }
      ]
    },
    {
      "cell_type": "code",
      "source": [
        "\"          the middle side          \".strip()"
      ],
      "metadata": {
        "colab": {
          "base_uri": "https://localhost:8080/",
          "height": 35
        },
        "outputId": "2ed96459-f080-4703-b74e-1d9ca6a453ea",
        "id": "TTAkJr_-wu8H"
      },
      "execution_count": 18,
      "outputs": [
        {
          "output_type": "execute_result",
          "data": {
            "text/plain": [
              "'the middle side'"
            ],
            "application/vnd.google.colaboratory.intrinsic+json": {
              "type": "string"
            }
          },
          "metadata": {},
          "execution_count": 18
        }
      ]
    },
    {
      "cell_type": "markdown",
      "source": [
        "You can also set any characters to remove as the leading and trailing characters by following this syntax: **_string_.strip(_characters_)**"
      ],
      "metadata": {
        "id": "oaEnaJo7wu8T"
      }
    },
    {
      "cell_type": "code",
      "source": [
        "\"aaaaabbbbbthe middle side-----.....\""
      ],
      "metadata": {
        "colab": {
          "base_uri": "https://localhost:8080/",
          "height": 35
        },
        "outputId": "5aab00e1-1446-455b-d637-57ce994a2f75",
        "id": "v96_FWnbwu8T"
      },
      "execution_count": 19,
      "outputs": [
        {
          "output_type": "execute_result",
          "data": {
            "text/plain": [
              "'aaaaabbbbbthe middle side-----.....'"
            ],
            "application/vnd.google.colaboratory.intrinsic+json": {
              "type": "string"
            }
          },
          "metadata": {},
          "execution_count": 19
        }
      ]
    },
    {
      "cell_type": "code",
      "source": [
        "\"aaaaabbbbbthe middle side-----.....\".strip(\"ab.-\")"
      ],
      "metadata": {
        "colab": {
          "base_uri": "https://localhost:8080/",
          "height": 35
        },
        "outputId": "663a19a5-6f38-4cb2-9bc9-cfe2ce736973",
        "id": "bxriBBi5wu8U"
      },
      "execution_count": 20,
      "outputs": [
        {
          "output_type": "execute_result",
          "data": {
            "text/plain": [
              "'the middle side'"
            ],
            "application/vnd.google.colaboratory.intrinsic+json": {
              "type": "string"
            }
          },
          "metadata": {},
          "execution_count": 20
        }
      ]
    },
    {
      "cell_type": "markdown",
      "source": [
        "As you can see, the method returns a trimmed version of the string."
      ],
      "metadata": {
        "id": "HtKeJ5gdwu8U"
      }
    }
  ]
}