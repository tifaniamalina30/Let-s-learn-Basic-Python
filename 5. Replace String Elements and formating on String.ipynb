{
  "nbformat": 4,
  "nbformat_minor": 0,
  "metadata": {
    "colab": {
      "name": "Replace String Elements and Formatting on String.ipynb",
      "provenance": [],
      "collapsed_sections": []
    },
    "kernelspec": {
      "name": "python3",
      "display_name": "Python 3"
    },
    "language_info": {
      "name": "python"
    }
  },
  "cells": [
    {
      "cell_type": "markdown",
      "source": [
        "# **REPLACE STRING ELEMENTS**"
      ],
      "metadata": {
        "id": "UoiphzQl9WPd"
      }
    },
    {
      "cell_type": "markdown",
      "source": [
        "# Python String replace()"
      ],
      "metadata": {
        "id": "JN5-Xrf7zdtP"
      }
    },
    {
      "cell_type": "markdown",
      "source": [
        "The replace() method replaces each matching occurrence of the old character/text in the string with the new character/text."
      ],
      "metadata": {
        "id": "Pm9__QXfzFXf"
      }
    },
    {
      "cell_type": "code",
      "source": [
        "Pathway = \"data science track\""
      ],
      "metadata": {
        "id": "nxxmCwPvzGCv"
      },
      "execution_count": null,
      "outputs": []
    },
    {
      "cell_type": "code",
      "source": [
        "#if we want replace word science with engineer\n",
        "Pathway.replace(\"science\",\"engineer\")"
      ],
      "metadata": {
        "colab": {
          "base_uri": "https://localhost:8080/",
          "height": 35
        },
        "id": "_gwChMaN0faj",
        "outputId": "34940745-d3da-4522-8569-b1ee6401e6c4"
      },
      "execution_count": null,
      "outputs": [
        {
          "output_type": "execute_result",
          "data": {
            "text/plain": [
              "'data engineer track'"
            ],
            "application/vnd.google.colaboratory.intrinsic+json": {
              "type": "string"
            }
          },
          "metadata": {},
          "execution_count": 2
        }
      ]
    },
    {
      "cell_type": "code",
      "source": [
        "text = \"data science and data engineer\""
      ],
      "metadata": {
        "id": "tJNPMIln0fgb"
      },
      "execution_count": null,
      "outputs": []
    },
    {
      "cell_type": "code",
      "source": [
        "#if we want replace only one word data with real \n",
        "text.replace(\"data\",\"real\",1)"
      ],
      "metadata": {
        "colab": {
          "base_uri": "https://localhost:8080/",
          "height": 35
        },
        "id": "85SrAOOI0fm4",
        "outputId": "2ff9129a-48bd-4bdb-d989-79106883f65c"
      },
      "execution_count": null,
      "outputs": [
        {
          "output_type": "execute_result",
          "data": {
            "text/plain": [
              "'real science and data engineer'"
            ],
            "application/vnd.google.colaboratory.intrinsic+json": {
              "type": "string"
            }
          },
          "metadata": {},
          "execution_count": 7
        }
      ]
    },
    {
      "cell_type": "code",
      "source": [
        "#if we want replace two word data with real\n",
        "text.replace(\"data\",\"real\",2)"
      ],
      "metadata": {
        "colab": {
          "base_uri": "https://localhost:8080/",
          "height": 35
        },
        "id": "7Aa3l31q0fsa",
        "outputId": "c58e3eb3-14b4-4cf6-8aa3-16b073cfa83a"
      },
      "execution_count": null,
      "outputs": [
        {
          "output_type": "execute_result",
          "data": {
            "text/plain": [
              "'real science and real engineer'"
            ],
            "application/vnd.google.colaboratory.intrinsic+json": {
              "type": "string"
            }
          },
          "metadata": {},
          "execution_count": 6
        }
      ]
    },
    {
      "cell_type": "markdown",
      "source": [
        "# **FORMATTING ON STRING**"
      ],
      "metadata": {
        "id": "Ktml7KuM9ctJ"
      }
    },
    {
      "cell_type": "markdown",
      "source": [
        "# Python String zfill() Method"
      ],
      "metadata": {
        "id": "RG6yWWbW45LB"
      }
    },
    {
      "cell_type": "markdown",
      "source": [
        "The zfill() method adds zeros (0) at the beginning of the string, until it reaches the specified length. If the value of the len parameter is less than the length of the string, no filling is done."
      ],
      "metadata": {
        "id": "SctkRxuh38UF"
      }
    },
    {
      "cell_type": "code",
      "source": [
        "year = 2022"
      ],
      "metadata": {
        "id": "CDxOCAx-5FAR"
      },
      "execution_count": null,
      "outputs": []
    },
    {
      "cell_type": "code",
      "source": [
        "#if we fill value more than the length of the string\n",
        "str(year).zfill(7)"
      ],
      "metadata": {
        "colab": {
          "base_uri": "https://localhost:8080/",
          "height": 35
        },
        "id": "mo3T4kok5E78",
        "outputId": "85e73f36-528f-4b38-a96f-982eaad8030a"
      },
      "execution_count": null,
      "outputs": [
        {
          "output_type": "execute_result",
          "data": {
            "text/plain": [
              "'0002022'"
            ],
            "application/vnd.google.colaboratory.intrinsic+json": {
              "type": "string"
            }
          },
          "metadata": {},
          "execution_count": 11
        }
      ]
    },
    {
      "cell_type": "code",
      "source": [
        "#if we fill value less than the length of the string\n",
        "str(year).zfill(3)"
      ],
      "metadata": {
        "colab": {
          "base_uri": "https://localhost:8080/",
          "height": 35
        },
        "id": "3X_bebqe5E17",
        "outputId": "2365e7a0-f86d-4ab5-a754-a83eace3a0b1"
      },
      "execution_count": null,
      "outputs": [
        {
          "output_type": "execute_result",
          "data": {
            "text/plain": [
              "'2022'"
            ],
            "application/vnd.google.colaboratory.intrinsic+json": {
              "type": "string"
            }
          },
          "metadata": {},
          "execution_count": 12
        }
      ]
    },
    {
      "cell_type": "markdown",
      "source": [
        "# Python String rjust() Method"
      ],
      "metadata": {
        "id": "nOQmk2ej-1jj"
      }
    },
    {
      "cell_type": "markdown",
      "source": [
        "The rjust() method will right align the string, using a specified character (space is default) as the fill character."
      ],
      "metadata": {
        "id": "v9vDRbUy561T"
      }
    },
    {
      "cell_type": "code",
      "source": [
        "Pathway = \"data science track\""
      ],
      "metadata": {
        "id": "mANwSLUv5Eu-"
      },
      "execution_count": null,
      "outputs": []
    },
    {
      "cell_type": "code",
      "source": [
        "#if we want right align the string without fill character\n",
        "Pathway.rjust(30)"
      ],
      "metadata": {
        "colab": {
          "base_uri": "https://localhost:8080/",
          "height": 35
        },
        "id": "bRE6q5zR5EoR",
        "outputId": "53ab3554-515b-4f19-a633-e2e1b4cb6654"
      },
      "execution_count": null,
      "outputs": [
        {
          "output_type": "execute_result",
          "data": {
            "text/plain": [
              "'            data science track'"
            ],
            "application/vnd.google.colaboratory.intrinsic+json": {
              "type": "string"
            }
          },
          "metadata": {},
          "execution_count": 26
        }
      ]
    },
    {
      "cell_type": "code",
      "source": [
        "#if we want right align the string with fill character\n",
        "Pathway.rjust(30,\"-\")"
      ],
      "metadata": {
        "colab": {
          "base_uri": "https://localhost:8080/",
          "height": 35
        },
        "id": "nIy4zIQm5EiI",
        "outputId": "9640e201-fc0e-46ce-d84d-b3ab8dd9f1c7"
      },
      "execution_count": null,
      "outputs": [
        {
          "output_type": "execute_result",
          "data": {
            "text/plain": [
              "'------------data science track'"
            ],
            "application/vnd.google.colaboratory.intrinsic+json": {
              "type": "string"
            }
          },
          "metadata": {},
          "execution_count": 27
        }
      ]
    },
    {
      "cell_type": "markdown",
      "source": [
        "# Python String ljust() Method"
      ],
      "metadata": {
        "id": "rzobx8ZU_RG7"
      }
    },
    {
      "cell_type": "markdown",
      "source": [
        "The ljust() method will left align the string, using a specified character (space is default) as the fill character."
      ],
      "metadata": {
        "id": "mrUJuA9R_Qs4"
      }
    },
    {
      "cell_type": "code",
      "source": [
        "Pathway = \"data science track\""
      ],
      "metadata": {
        "id": "ZpqhrQCB5Ebs"
      },
      "execution_count": null,
      "outputs": []
    },
    {
      "cell_type": "code",
      "source": [
        "#if we want right align the string without fill character\n",
        "Pathway.ljust(30)"
      ],
      "metadata": {
        "colab": {
          "base_uri": "https://localhost:8080/",
          "height": 35
        },
        "id": "pKZ1wput_llQ",
        "outputId": "497a2709-1263-414e-dccf-5f2c87d57c66"
      },
      "execution_count": null,
      "outputs": [
        {
          "output_type": "execute_result",
          "data": {
            "text/plain": [
              "'data science track            '"
            ],
            "application/vnd.google.colaboratory.intrinsic+json": {
              "type": "string"
            }
          },
          "metadata": {},
          "execution_count": 28
        }
      ]
    },
    {
      "cell_type": "code",
      "source": [
        "#if we want right align the string with fill character\n",
        "Pathway.ljust(30,\"-\")"
      ],
      "metadata": {
        "colab": {
          "base_uri": "https://localhost:8080/",
          "height": 35
        },
        "id": "7eaXBNoK_lt6",
        "outputId": "3468be67-5cf7-4aa3-e2d4-e39dc2778187"
      },
      "execution_count": null,
      "outputs": [
        {
          "output_type": "execute_result",
          "data": {
            "text/plain": [
              "'data science track------------'"
            ],
            "application/vnd.google.colaboratory.intrinsic+json": {
              "type": "string"
            }
          },
          "metadata": {},
          "execution_count": 29
        }
      ]
    },
    {
      "cell_type": "markdown",
      "source": [
        "# Python String center() Method"
      ],
      "metadata": {
        "id": "2D_v2H43_u-4"
      }
    },
    {
      "cell_type": "markdown",
      "source": [
        "The center() method will center align the string, using a specified character (space is default) as the fill character."
      ],
      "metadata": {
        "id": "9pa41XrR_maz"
      }
    },
    {
      "cell_type": "code",
      "source": [
        "Pathway = \"data science track\""
      ],
      "metadata": {
        "id": "LEIsyUE__4tO"
      },
      "execution_count": null,
      "outputs": []
    },
    {
      "cell_type": "code",
      "source": [
        "#if we want right align the string without fill character\n",
        "Pathway.center(30)"
      ],
      "metadata": {
        "colab": {
          "base_uri": "https://localhost:8080/",
          "height": 35
        },
        "id": "ET4zQ8zE_42l",
        "outputId": "d8d344e1-2144-48b4-b7bb-a5ef4ed7e0ab"
      },
      "execution_count": null,
      "outputs": [
        {
          "output_type": "execute_result",
          "data": {
            "text/plain": [
              "'      data science track      '"
            ],
            "application/vnd.google.colaboratory.intrinsic+json": {
              "type": "string"
            }
          },
          "metadata": {},
          "execution_count": 30
        }
      ]
    },
    {
      "cell_type": "code",
      "source": [
        "#if we want right align the string with fill character\n",
        "Pathway.center(30,\"-\")"
      ],
      "metadata": {
        "colab": {
          "base_uri": "https://localhost:8080/",
          "height": 35
        },
        "id": "fYJInP5O_47o",
        "outputId": "b3e3b222-e256-451f-fa54-ef812bf4da91"
      },
      "execution_count": null,
      "outputs": [
        {
          "output_type": "execute_result",
          "data": {
            "text/plain": [
              "'------data science track------'"
            ],
            "application/vnd.google.colaboratory.intrinsic+json": {
              "type": "string"
            }
          },
          "metadata": {},
          "execution_count": 31
        }
      ]
    },
    {
      "cell_type": "markdown",
      "source": [
        ""
      ],
      "metadata": {
        "id": "8tswhN-2_5VE"
      }
    },
    {
      "cell_type": "markdown",
      "source": [
        "# Python String Literals"
      ],
      "metadata": {
        "id": "7LA9_38-_5p-"
      }
    },
    {
      "cell_type": "markdown",
      "source": [
        "String literals in python are surrounded by either single quotation marks('...'), or double quotation marks(\"...\")."
      ],
      "metadata": {
        "id": "bCb7A015YxAf"
      }
    },
    {
      "cell_type": "code",
      "source": [
        "#if use single quotation marks\n",
        "print ('hello world')"
      ],
      "metadata": {
        "colab": {
          "base_uri": "https://localhost:8080/"
        },
        "id": "nTdBG2vbBgko",
        "outputId": "5faec582-f1d6-4d93-925e-433c2932bef1"
      },
      "execution_count": null,
      "outputs": [
        {
          "output_type": "stream",
          "name": "stdout",
          "text": [
            "hello world\n"
          ]
        }
      ]
    },
    {
      "cell_type": "code",
      "source": [
        "#if use double quotation marks\n",
        "print(\"hello world\")"
      ],
      "metadata": {
        "colab": {
          "base_uri": "https://localhost:8080/"
        },
        "id": "Lpt0f5p7Bgv4",
        "outputId": "d4c52538-a7d0-4a09-8341-e4932da64c59"
      },
      "execution_count": null,
      "outputs": [
        {
          "output_type": "stream",
          "name": "stdout",
          "text": [
            "hello world\n"
          ]
        }
      ]
    },
    {
      "cell_type": "markdown",
      "source": [
        "# Python Escape Characters"
      ],
      "metadata": {
        "id": "bX4qABFZBhOr"
      }
    },
    {
      "cell_type": "markdown",
      "source": [
        "To insert characters that are illegal in a string, use an escape character. An escape character is a backslash \\ followed by the character you want to insert."
      ],
      "metadata": {
        "id": "goYE4cCcDBwD"
      }
    },
    {
      "cell_type": "code",
      "source": [
        "#if you use single quotes inside a string that is surrounded by single quotes,You will get an error\n",
        "txt = 'you're welcome'"
      ],
      "metadata": {
        "colab": {
          "base_uri": "https://localhost:8080/",
          "height": 132
        },
        "id": "y3jTftYNDSEV",
        "outputId": "66e7327f-71e9-418e-d330-0004d78caa84"
      },
      "execution_count": null,
      "outputs": [
        {
          "output_type": "error",
          "ename": "SyntaxError",
          "evalue": "ignored",
          "traceback": [
            "\u001b[0;36m  File \u001b[0;32m\"<ipython-input-35-40a608f1aac6>\"\u001b[0;36m, line \u001b[0;32m2\u001b[0m\n\u001b[0;31m    txt = 'you're welcome'\u001b[0m\n\u001b[0m                ^\u001b[0m\n\u001b[0;31mSyntaxError\u001b[0m\u001b[0;31m:\u001b[0m invalid syntax\n"
          ]
        }
      ]
    },
    {
      "cell_type": "code",
      "source": [
        "#to fix the error we can use backslash\n",
        "txt = 'you\\'re welcome'\n",
        "print(txt)"
      ],
      "metadata": {
        "colab": {
          "base_uri": "https://localhost:8080/"
        },
        "id": "P3nG-fvGDSB9",
        "outputId": "53eac352-b067-4f92-8ba5-7f7951804971"
      },
      "execution_count": null,
      "outputs": [
        {
          "output_type": "stream",
          "name": "stdout",
          "text": [
            "you're welcome\n"
          ]
        }
      ]
    },
    {
      "cell_type": "markdown",
      "source": [
        "# Raw Strings"
      ],
      "metadata": {
        "id": "WRul5_3JHjcg"
      }
    },
    {
      "cell_type": "markdown",
      "source": [
        "Python raw string is created by prefixing a string literal with ‘r’ or ‘R’. Python raw string treats backslash (\\) as a literal character. This is useful when we want to have a string that contains backslash and don’t want it to be treated as an escape character."
      ],
      "metadata": {
        "id": "lMDzWUyqDUFP"
      }
    },
    {
      "cell_type": "code",
      "source": [
        "#If we try to assign it to a normal string, the \\n will be treated as a new line.\n",
        "a = \"hello\\nworld\"\n",
        "print(a)"
      ],
      "metadata": {
        "colab": {
          "base_uri": "https://localhost:8080/"
        },
        "id": "Itw74y5qJDPg",
        "outputId": "94273d6c-178e-46e1-9a5b-10ef6f052d28"
      },
      "execution_count": null,
      "outputs": [
        {
          "output_type": "stream",
          "name": "stdout",
          "text": [
            "hello\n",
            "world\n"
          ]
        }
      ]
    },
    {
      "cell_type": "code",
      "source": [
        "#if we try to assign it to a raw strings, the \\n will be printed\n",
        "aa = r\"hello\\nworld\"\n",
        "print(aa)"
      ],
      "metadata": {
        "colab": {
          "base_uri": "https://localhost:8080/"
        },
        "id": "AQRLv9r2JDDq",
        "outputId": "4f8a9724-1d5d-4f74-8112-7640280f1bd0"
      },
      "execution_count": null,
      "outputs": [
        {
          "output_type": "stream",
          "name": "stdout",
          "text": [
            "hello\\nworld\n"
          ]
        }
      ]
    }
  ]
}