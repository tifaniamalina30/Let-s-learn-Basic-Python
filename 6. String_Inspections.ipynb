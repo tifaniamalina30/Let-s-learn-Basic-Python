{
  "nbformat": 4,
  "nbformat_minor": 0,
  "metadata": {
    "colab": {
      "name": "String Inspection.ipynb",
      "provenance": [],
      "collapsed_sections": []
    },
    "kernelspec": {
      "name": "python3",
      "display_name": "Python 3"
    },
    "language_info": {
      "name": "python"
    }
  },
  "cells": [
    {
      "cell_type": "markdown",
      "source": [
        "This notebook is created by **Sintaks Group**, with the following members:\n",
        "1. Hasballah Askar\n",
        "2. Galang Setia Nugroho\n",
        "3. Khalishah Fiddina\n",
        "4. Tifani Amalina\n",
        "5. Muhammad Ilham Hakiqi"
      ],
      "metadata": {
        "id": "3Q3eeozlvccZ"
      }
    },
    {
      "cell_type": "markdown",
      "source": [
        "## **String Inspections**\n",
        "In this notebook, we will show you about String Inspections. Python provides several methods to inspect text/string data. These methods return boolean value (True or False) to check whether or not a condition is met. <br>These are 9 useful methods for string inspections in Python:\n",
        "* islower()\n",
        "* isupper()\n",
        "* istitle()\n",
        "* isalpha()\n",
        "* isalnum()\n",
        "* isdecimal()\n",
        "* isspace()\n",
        "* startswith()\n",
        "* endswith"
      ],
      "metadata": {
        "id": "rA9xfjWp3GDK"
      }
    },
    {
      "cell_type": "markdown",
      "source": [
        "### **islower()**\n",
        "The **islower()** method checks whether **all the alphabet characters** of the string are **lowercase**. It returns \"True\" if all alphabets in a string are lowercase alphabets. If the string contains at least one uppercase alphabet, it returns \"False\". This method ignores any Symbols, Numbers and Spaces."
      ],
      "metadata": {
        "id": "Q0faAuxE7M7n"
      }
    },
    {
      "cell_type": "markdown",
      "source": [
        "To use islower() method, follow this syntax: **_string_.islower()**"
      ],
      "metadata": {
        "id": "UG8O_fzs-iCw"
      }
    },
    {
      "cell_type": "code",
      "source": [
        "\"lesson-01\""
      ],
      "metadata": {
        "colab": {
          "base_uri": "https://localhost:8080/",
          "height": 35
        },
        "id": "H3szUTUUyPWU",
        "outputId": "28b4977f-1a0a-4252-d37c-58613c9deccf"
      },
      "execution_count": 6,
      "outputs": [
        {
          "output_type": "execute_result",
          "data": {
            "text/plain": [
              "'lesson-01'"
            ],
            "application/vnd.google.colaboratory.intrinsic+json": {
              "type": "string"
            }
          },
          "metadata": {},
          "execution_count": 6
        }
      ]
    },
    {
      "cell_type": "code",
      "source": [
        "\"lesson-01\".islower()"
      ],
      "metadata": {
        "colab": {
          "base_uri": "https://localhost:8080/"
        },
        "id": "UaQbBDdx9Gs5",
        "outputId": "509d6230-d210-40be-c023-34431676a1a9"
      },
      "execution_count": 4,
      "outputs": [
        {
          "output_type": "execute_result",
          "data": {
            "text/plain": [
              "True"
            ]
          },
          "metadata": {},
          "execution_count": 4
        }
      ]
    },
    {
      "cell_type": "markdown",
      "source": [
        "The example above returns \"True\" because all the alphabets are lowercase. As you can see, symbols, numbers and spaces are not checked.<br>\n",
        "Now, what if the string has a single uppercase alphabet?"
      ],
      "metadata": {
        "id": "LHSHj0SHwhfo"
      }
    },
    {
      "cell_type": "code",
      "source": [
        "\"Lesson-01\""
      ],
      "metadata": {
        "colab": {
          "base_uri": "https://localhost:8080/",
          "height": 35
        },
        "id": "keLNIRHFyRkV",
        "outputId": "ccb9bb94-9c96-475b-df54-9a9b162ada53"
      },
      "execution_count": 7,
      "outputs": [
        {
          "output_type": "execute_result",
          "data": {
            "text/plain": [
              "'Lesson-01'"
            ],
            "application/vnd.google.colaboratory.intrinsic+json": {
              "type": "string"
            }
          },
          "metadata": {},
          "execution_count": 7
        }
      ]
    },
    {
      "cell_type": "code",
      "source": [
        "\"Lesson-01\".islower()"
      ],
      "metadata": {
        "colab": {
          "base_uri": "https://localhost:8080/"
        },
        "id": "LjHzH3pB9rvy",
        "outputId": "e8f06e6c-2a1b-451f-d172-a9e69451741c"
      },
      "execution_count": 5,
      "outputs": [
        {
          "output_type": "execute_result",
          "data": {
            "text/plain": [
              "False"
            ]
          },
          "metadata": {},
          "execution_count": 5
        }
      ]
    },
    {
      "cell_type": "markdown",
      "source": [
        "Even though it only contains one uppercase alphabet, the method returns \"False\"."
      ],
      "metadata": {
        "id": "y4zOrsJ4AQn9"
      }
    },
    {
      "cell_type": "markdown",
      "source": [
        "### **isupper()**\n",
        "The **isupper()** method checks whether **all the alphabet characters** of the string are **uppercase**. It returns \"True\" if all alphabets in a string are uppercase alphabets. If the string contains at least one lowercase alphabet, it returns \"False\". This method ignores any Symbols, Numbers and Spaces."
      ],
      "metadata": {
        "id": "x7CL8LvUyu2W"
      }
    },
    {
      "cell_type": "markdown",
      "source": [
        "To use isupper() method, follow this syntax: **_string_.isupper()**"
      ],
      "metadata": {
        "id": "_nm2FeuSyu2a"
      }
    },
    {
      "cell_type": "code",
      "source": [
        "\"LESSON-02\""
      ],
      "metadata": {
        "colab": {
          "base_uri": "https://localhost:8080/",
          "height": 35
        },
        "outputId": "0730f1df-1a3b-4c5d-a8da-72dae93f0b11",
        "id": "b9PUK_bIyu2b"
      },
      "execution_count": 9,
      "outputs": [
        {
          "output_type": "execute_result",
          "data": {
            "text/plain": [
              "'LESSON-02'"
            ],
            "application/vnd.google.colaboratory.intrinsic+json": {
              "type": "string"
            }
          },
          "metadata": {},
          "execution_count": 9
        }
      ]
    },
    {
      "cell_type": "code",
      "source": [
        "\"LESSON-02\".isupper()"
      ],
      "metadata": {
        "colab": {
          "base_uri": "https://localhost:8080/"
        },
        "outputId": "c44cf38e-5764-4ff7-ce71-25c57bbfa222",
        "id": "Gmb0PU54yu2d"
      },
      "execution_count": 11,
      "outputs": [
        {
          "output_type": "execute_result",
          "data": {
            "text/plain": [
              "True"
            ]
          },
          "metadata": {},
          "execution_count": 11
        }
      ]
    },
    {
      "cell_type": "markdown",
      "source": [
        "The example above returns \"True\" because all the alphabets are uppercase. As you can see, symbols, numbers and spaces are not checked.<br>\n",
        "Now, what if the string has a single lowercase alphabet?"
      ],
      "metadata": {
        "id": "wai7T4fryu2f"
      }
    },
    {
      "cell_type": "code",
      "source": [
        "\"LESSoN-02\""
      ],
      "metadata": {
        "colab": {
          "base_uri": "https://localhost:8080/",
          "height": 35
        },
        "outputId": "affd2e5b-e35f-4a8c-ab97-32eab5dcd8b2",
        "id": "pAIQhOb0yu2k"
      },
      "execution_count": 13,
      "outputs": [
        {
          "output_type": "execute_result",
          "data": {
            "text/plain": [
              "'LESSoN-02'"
            ],
            "application/vnd.google.colaboratory.intrinsic+json": {
              "type": "string"
            }
          },
          "metadata": {},
          "execution_count": 13
        }
      ]
    },
    {
      "cell_type": "code",
      "source": [
        "\"LESSoN-02\".isupper()"
      ],
      "metadata": {
        "colab": {
          "base_uri": "https://localhost:8080/"
        },
        "outputId": "9a85aaea-e22e-4095-e53b-1fa7b81484f8",
        "id": "5aXs-0b_yu2o"
      },
      "execution_count": 14,
      "outputs": [
        {
          "output_type": "execute_result",
          "data": {
            "text/plain": [
              "False"
            ]
          },
          "metadata": {},
          "execution_count": 14
        }
      ]
    },
    {
      "cell_type": "markdown",
      "source": [
        "Even though it only contains one lowercase alphabet, the method returns \"False\"."
      ],
      "metadata": {
        "id": "dXmKP7bayu2u"
      }
    },
    {
      "cell_type": "markdown",
      "source": [
        "### **istitle()**\n",
        "The **istitle()** method checks whether **each word's first character is uppercase** AND **the rest of the word are in lowercase** or not. It returns \"True\" if a string is titlecased, otherwise it returns \"False\". Any Symbols, Numbers and Spaces are ignored in this method."
      ],
      "metadata": {
        "id": "7Xpj3Bqkz8Af"
      }
    },
    {
      "cell_type": "markdown",
      "source": [
        "To use istitle() method, follow this syntax: **_string_.istitle()**"
      ],
      "metadata": {
        "id": "KI7UQgRCz8BA"
      }
    },
    {
      "cell_type": "code",
      "source": [
        "\"Lesson Three\""
      ],
      "metadata": {
        "colab": {
          "base_uri": "https://localhost:8080/",
          "height": 35
        },
        "outputId": "c234c41e-a610-4604-c0c4-5ba4dd96a527",
        "id": "ZfkNZHOYz8BB"
      },
      "execution_count": 26,
      "outputs": [
        {
          "output_type": "execute_result",
          "data": {
            "text/plain": [
              "'Lesson Three'"
            ],
            "application/vnd.google.colaboratory.intrinsic+json": {
              "type": "string"
            }
          },
          "metadata": {},
          "execution_count": 26
        }
      ]
    },
    {
      "cell_type": "code",
      "source": [
        "\"Lesson Three\".istitle()"
      ],
      "metadata": {
        "colab": {
          "base_uri": "https://localhost:8080/"
        },
        "outputId": "74614864-a0a8-48ae-9a57-f21785a64b71",
        "id": "h3fdA6EPz8BC"
      },
      "execution_count": 27,
      "outputs": [
        {
          "output_type": "execute_result",
          "data": {
            "text/plain": [
              "True"
            ]
          },
          "metadata": {},
          "execution_count": 27
        }
      ]
    },
    {
      "cell_type": "markdown",
      "source": [
        "The example above returns \"True\" because the string is titlecased.<br>\n",
        "Now, we will show you what would happen if the string is written in different ways."
      ],
      "metadata": {
        "id": "aQQyYaTHz8BD"
      }
    },
    {
      "cell_type": "code",
      "source": [
        "\"Lesson 03\""
      ],
      "metadata": {
        "colab": {
          "base_uri": "https://localhost:8080/",
          "height": 35
        },
        "outputId": "42da36e2-5834-4605-983a-6bad21623f34",
        "id": "FgMeOkmmz8BE"
      },
      "execution_count": 28,
      "outputs": [
        {
          "output_type": "execute_result",
          "data": {
            "text/plain": [
              "'Lesson 03'"
            ],
            "application/vnd.google.colaboratory.intrinsic+json": {
              "type": "string"
            }
          },
          "metadata": {},
          "execution_count": 28
        }
      ]
    },
    {
      "cell_type": "code",
      "source": [
        "\"Lesson 03\".istitle()"
      ],
      "metadata": {
        "colab": {
          "base_uri": "https://localhost:8080/"
        },
        "outputId": "ab21d1a3-45d2-4b42-ae6c-18fd720273cf",
        "id": "u7wY9JoUz8BF"
      },
      "execution_count": 29,
      "outputs": [
        {
          "output_type": "execute_result",
          "data": {
            "text/plain": [
              "True"
            ]
          },
          "metadata": {},
          "execution_count": 29
        }
      ]
    },
    {
      "cell_type": "markdown",
      "source": [
        "As you can see, the example above returns \"True\" because symbols, numbers and spaces are not checked."
      ],
      "metadata": {
        "id": "irkbIi6k4E-x"
      }
    },
    {
      "cell_type": "code",
      "source": [
        "\"Lesson ThreeS\""
      ],
      "metadata": {
        "colab": {
          "base_uri": "https://localhost:8080/",
          "height": 35
        },
        "id": "WuGYqVd44Tmt",
        "outputId": "a1da6e73-ee01-4d05-e78c-77dac531f4ec"
      },
      "execution_count": 30,
      "outputs": [
        {
          "output_type": "execute_result",
          "data": {
            "text/plain": [
              "'Lesson ThreeS'"
            ],
            "application/vnd.google.colaboratory.intrinsic+json": {
              "type": "string"
            }
          },
          "metadata": {},
          "execution_count": 30
        }
      ]
    },
    {
      "cell_type": "code",
      "source": [
        "\"Lesson ThreeS\".istitle()"
      ],
      "metadata": {
        "colab": {
          "base_uri": "https://localhost:8080/"
        },
        "id": "EUuLMm2O4eKp",
        "outputId": "0f7c3f8b-4c59-494c-9264-f43d0a963809"
      },
      "execution_count": 31,
      "outputs": [
        {
          "output_type": "execute_result",
          "data": {
            "text/plain": [
              "False"
            ]
          },
          "metadata": {},
          "execution_count": 31
        }
      ]
    },
    {
      "cell_type": "markdown",
      "source": [
        "It returns \"False\" because there is an uppercase after the first character in \"ThreeS\"."
      ],
      "metadata": {
        "id": "AgDW-zdYz8BI"
      }
    },
    {
      "cell_type": "markdown",
      "source": [
        "### **isalpha()**\n",
        "The **isalpha()** method checks whether the string includes **only alphabet characters** or not. It returns \"True\" if all alphabets in the string are alphabets. If the string contains at least one Symbol, Number or Space, it returns \"False\"."
      ],
      "metadata": {
        "id": "xaVpmdEl5BVm"
      }
    },
    {
      "cell_type": "markdown",
      "source": [
        "To use isalpha() method, follow this syntax: **_string_.isalpha()**"
      ],
      "metadata": {
        "id": "Cw0BRNng5BWH"
      }
    },
    {
      "cell_type": "code",
      "source": [
        "\"LessonFour\""
      ],
      "metadata": {
        "colab": {
          "base_uri": "https://localhost:8080/",
          "height": 35
        },
        "outputId": "ae9029ea-9ba9-4691-95b8-c0aee0910465",
        "id": "fEfhWr6T5BWI"
      },
      "execution_count": 32,
      "outputs": [
        {
          "output_type": "execute_result",
          "data": {
            "text/plain": [
              "'LessonFour'"
            ],
            "application/vnd.google.colaboratory.intrinsic+json": {
              "type": "string"
            }
          },
          "metadata": {},
          "execution_count": 32
        }
      ]
    },
    {
      "cell_type": "code",
      "source": [
        "\"LessonFour\".isalpha()"
      ],
      "metadata": {
        "colab": {
          "base_uri": "https://localhost:8080/"
        },
        "outputId": "5205b85e-d2ee-4cf3-d64d-2dcf77ab898d",
        "id": "vaYGTuAf5BWK"
      },
      "execution_count": 33,
      "outputs": [
        {
          "output_type": "execute_result",
          "data": {
            "text/plain": [
              "True"
            ]
          },
          "metadata": {},
          "execution_count": 33
        }
      ]
    },
    {
      "cell_type": "markdown",
      "source": [
        "The example above returns \"True\" because the string only contains alphabet characters.<br>\n",
        "Now, what if the string has any symbols or numbers or spaces?"
      ],
      "metadata": {
        "id": "PXlf47It5BWL"
      }
    },
    {
      "cell_type": "code",
      "source": [
        "# the string contains a space\n",
        "\"Lesson four\""
      ],
      "metadata": {
        "colab": {
          "base_uri": "https://localhost:8080/",
          "height": 35
        },
        "outputId": "b3a589ef-b2f4-45d6-835e-d51954fd26ed",
        "id": "U0iRyIUt5BWM"
      },
      "execution_count": 34,
      "outputs": [
        {
          "output_type": "execute_result",
          "data": {
            "text/plain": [
              "'Lesson four'"
            ],
            "application/vnd.google.colaboratory.intrinsic+json": {
              "type": "string"
            }
          },
          "metadata": {},
          "execution_count": 34
        }
      ]
    },
    {
      "cell_type": "code",
      "source": [
        "\"Lesson four\".isalpha()"
      ],
      "metadata": {
        "colab": {
          "base_uri": "https://localhost:8080/"
        },
        "outputId": "17b162fc-ac6f-4a93-8c8e-5430fcd41339",
        "id": "mWbJ0_ny5BWN"
      },
      "execution_count": 36,
      "outputs": [
        {
          "output_type": "execute_result",
          "data": {
            "text/plain": [
              "False"
            ]
          },
          "metadata": {},
          "execution_count": 36
        }
      ]
    },
    {
      "cell_type": "code",
      "source": [
        "# the string contains numbers\n",
        "\"Lesson04\""
      ],
      "metadata": {
        "colab": {
          "base_uri": "https://localhost:8080/",
          "height": 35
        },
        "id": "-grfoLSC6ewS",
        "outputId": "20f10e2a-26c7-409c-b004-4d71fc16f72c"
      },
      "execution_count": 37,
      "outputs": [
        {
          "output_type": "execute_result",
          "data": {
            "text/plain": [
              "'Lesson04'"
            ],
            "application/vnd.google.colaboratory.intrinsic+json": {
              "type": "string"
            }
          },
          "metadata": {},
          "execution_count": 37
        }
      ]
    },
    {
      "cell_type": "code",
      "source": [
        "\"Lesson04\".isalpha()"
      ],
      "metadata": {
        "colab": {
          "base_uri": "https://localhost:8080/"
        },
        "id": "wjTjtIcm6p5T",
        "outputId": "bb63d460-c14d-47c5-cc25-fe2257284687"
      },
      "execution_count": 38,
      "outputs": [
        {
          "output_type": "execute_result",
          "data": {
            "text/plain": [
              "False"
            ]
          },
          "metadata": {},
          "execution_count": 38
        }
      ]
    },
    {
      "cell_type": "code",
      "source": [
        "# the string contains a symbol\n",
        "\"Lesson.\""
      ],
      "metadata": {
        "colab": {
          "base_uri": "https://localhost:8080/",
          "height": 35
        },
        "id": "SoP0aWdn6wRn",
        "outputId": "da24ae91-bba0-48d8-8f3d-7589e9efa70b"
      },
      "execution_count": 39,
      "outputs": [
        {
          "output_type": "execute_result",
          "data": {
            "text/plain": [
              "'Lesson.'"
            ],
            "application/vnd.google.colaboratory.intrinsic+json": {
              "type": "string"
            }
          },
          "metadata": {},
          "execution_count": 39
        }
      ]
    },
    {
      "cell_type": "code",
      "source": [
        "\"Lesson.\".isalpha()"
      ],
      "metadata": {
        "colab": {
          "base_uri": "https://localhost:8080/"
        },
        "id": "BhE9XdsF60r5",
        "outputId": "77929dd4-8776-42df-b4c4-0eca268dc692"
      },
      "execution_count": 40,
      "outputs": [
        {
          "output_type": "execute_result",
          "data": {
            "text/plain": [
              "False"
            ]
          },
          "metadata": {},
          "execution_count": 40
        }
      ]
    },
    {
      "cell_type": "markdown",
      "source": [
        "As you can see, the method returns \"False\" if the string includes at least one space or symbol or number."
      ],
      "metadata": {
        "id": "YNNrkgKH5BWO"
      }
    },
    {
      "cell_type": "markdown",
      "source": [
        "### **isdecimal()**\n",
        "The **isdecimal()** method checks whether the string includes **only decimal characters** or not. It returns \"True\" if all the characters in the string are decimals (0-9). If the string contains at least one Alphabet, Symbol or Space, it returns \"False\"."
      ],
      "metadata": {
        "id": "SGEt_7xH7eSI"
      }
    },
    {
      "cell_type": "markdown",
      "source": [
        "To use isdecimal() method, follow this syntax: **_string_.isdecimal()**"
      ],
      "metadata": {
        "id": "7pIqjZFd7eSK"
      }
    },
    {
      "cell_type": "code",
      "source": [
        "\"12345\""
      ],
      "metadata": {
        "colab": {
          "base_uri": "https://localhost:8080/",
          "height": 35
        },
        "outputId": "cac3163c-5e8a-4e0a-fa16-7cc76729c1f1",
        "id": "yXeDWo_47eSK"
      },
      "execution_count": 41,
      "outputs": [
        {
          "output_type": "execute_result",
          "data": {
            "text/plain": [
              "'12345'"
            ],
            "application/vnd.google.colaboratory.intrinsic+json": {
              "type": "string"
            }
          },
          "metadata": {},
          "execution_count": 41
        }
      ]
    },
    {
      "cell_type": "code",
      "source": [
        "\"12345\".isdecimal()"
      ],
      "metadata": {
        "colab": {
          "base_uri": "https://localhost:8080/"
        },
        "outputId": "935e371a-4fb8-44fb-9669-77282141a1b8",
        "id": "Pd4SCBig7eSM"
      },
      "execution_count": 46,
      "outputs": [
        {
          "output_type": "execute_result",
          "data": {
            "text/plain": [
              "True"
            ]
          },
          "metadata": {},
          "execution_count": 46
        }
      ]
    },
    {
      "cell_type": "markdown",
      "source": [
        "The example above returns \"True\" because the string only contains decimal characters (0-9).<br>\n",
        "Now, what if the string has any alphabets or symbols or spaces?"
      ],
      "metadata": {
        "id": "ekZKFUG-7eSN"
      }
    },
    {
      "cell_type": "code",
      "source": [
        "# the string contains a space\n",
        "\"123 45\""
      ],
      "metadata": {
        "colab": {
          "base_uri": "https://localhost:8080/",
          "height": 35
        },
        "outputId": "08d85295-4c83-487b-e79c-cd6e0a5fa06d",
        "id": "nyHm6AmL7eSN"
      },
      "execution_count": 47,
      "outputs": [
        {
          "output_type": "execute_result",
          "data": {
            "text/plain": [
              "'123 45'"
            ],
            "application/vnd.google.colaboratory.intrinsic+json": {
              "type": "string"
            }
          },
          "metadata": {},
          "execution_count": 47
        }
      ]
    },
    {
      "cell_type": "code",
      "source": [
        "\"123 45\".isdecimal()"
      ],
      "metadata": {
        "colab": {
          "base_uri": "https://localhost:8080/"
        },
        "outputId": "df4b2443-7054-422a-bf0a-cc02dbee9184",
        "id": "FhXC7et_7eSO"
      },
      "execution_count": 48,
      "outputs": [
        {
          "output_type": "execute_result",
          "data": {
            "text/plain": [
              "False"
            ]
          },
          "metadata": {},
          "execution_count": 48
        }
      ]
    },
    {
      "cell_type": "code",
      "source": [
        "# the string contains alphabet\n",
        "\"I2345\""
      ],
      "metadata": {
        "colab": {
          "base_uri": "https://localhost:8080/",
          "height": 35
        },
        "outputId": "c261393b-326b-4813-afe5-230aa08ae4e4",
        "id": "RwISOF9s7eSQ"
      },
      "execution_count": 49,
      "outputs": [
        {
          "output_type": "execute_result",
          "data": {
            "text/plain": [
              "'I2345'"
            ],
            "application/vnd.google.colaboratory.intrinsic+json": {
              "type": "string"
            }
          },
          "metadata": {},
          "execution_count": 49
        }
      ]
    },
    {
      "cell_type": "code",
      "source": [
        "\"I2345\".isdecimal()"
      ],
      "metadata": {
        "colab": {
          "base_uri": "https://localhost:8080/"
        },
        "outputId": "8449737b-474d-42fe-d9ba-c87f5175ff1d",
        "id": "XnABDw1Q7eSS"
      },
      "execution_count": 52,
      "outputs": [
        {
          "output_type": "execute_result",
          "data": {
            "text/plain": [
              "False"
            ]
          },
          "metadata": {},
          "execution_count": 52
        }
      ]
    },
    {
      "cell_type": "code",
      "source": [
        "# the string contains a symbol\n",
        "\"!2345\""
      ],
      "metadata": {
        "colab": {
          "base_uri": "https://localhost:8080/",
          "height": 35
        },
        "outputId": "7e9dead8-b536-4400-9e42-57c231e79cbe",
        "id": "rUVTjHq97eST"
      },
      "execution_count": 51,
      "outputs": [
        {
          "output_type": "execute_result",
          "data": {
            "text/plain": [
              "'!2345'"
            ],
            "application/vnd.google.colaboratory.intrinsic+json": {
              "type": "string"
            }
          },
          "metadata": {},
          "execution_count": 51
        }
      ]
    },
    {
      "cell_type": "code",
      "source": [
        "\"!2345\".isdecimal()"
      ],
      "metadata": {
        "colab": {
          "base_uri": "https://localhost:8080/"
        },
        "outputId": "24dd3e5a-97c7-4abf-aee1-3218a69eed15",
        "id": "nOMQsh1F7eSV"
      },
      "execution_count": 53,
      "outputs": [
        {
          "output_type": "execute_result",
          "data": {
            "text/plain": [
              "False"
            ]
          },
          "metadata": {},
          "execution_count": 53
        }
      ]
    },
    {
      "cell_type": "markdown",
      "source": [
        "As you can see, the method returns \"False\" if the string includes at least one space or symbol or alphabet."
      ],
      "metadata": {
        "id": "oou3YRSo7eSY"
      }
    },
    {
      "cell_type": "markdown",
      "source": [
        "\n",
        "This method is used on unicode objects."
      ],
      "metadata": {
        "id": "ah_V6PMJ9BhA"
      }
    },
    {
      "cell_type": "code",
      "source": [
        "# the string contains unicode for 0\n",
        "\"\\u0030\""
      ],
      "metadata": {
        "colab": {
          "base_uri": "https://localhost:8080/",
          "height": 35
        },
        "id": "rDGfnLGq992S",
        "outputId": "057057c8-9a24-49d4-adae-ec142f9a7b4d"
      },
      "execution_count": 54,
      "outputs": [
        {
          "output_type": "execute_result",
          "data": {
            "text/plain": [
              "'0'"
            ],
            "application/vnd.google.colaboratory.intrinsic+json": {
              "type": "string"
            }
          },
          "metadata": {},
          "execution_count": 54
        }
      ]
    },
    {
      "cell_type": "code",
      "source": [
        "\"\\u0030\".isdecimal()"
      ],
      "metadata": {
        "colab": {
          "base_uri": "https://localhost:8080/"
        },
        "id": "MfQch4XE-FST",
        "outputId": "4d82cb64-ea69-4df6-ac78-2214b5c64725"
      },
      "execution_count": 55,
      "outputs": [
        {
          "output_type": "execute_result",
          "data": {
            "text/plain": [
              "True"
            ]
          },
          "metadata": {},
          "execution_count": 55
        }
      ]
    },
    {
      "cell_type": "code",
      "source": [
        "# the string contains unicode for A\n",
        "\"\\u0041\""
      ],
      "metadata": {
        "colab": {
          "base_uri": "https://localhost:8080/",
          "height": 35
        },
        "id": "8werX0ty-IQF",
        "outputId": "1968bc5f-46ec-482a-c8e9-6a86a88ccb70"
      },
      "execution_count": 59,
      "outputs": [
        {
          "output_type": "execute_result",
          "data": {
            "text/plain": [
              "'A'"
            ],
            "application/vnd.google.colaboratory.intrinsic+json": {
              "type": "string"
            }
          },
          "metadata": {},
          "execution_count": 59
        }
      ]
    },
    {
      "cell_type": "code",
      "source": [
        "\"\\u0041\".isdecimal()"
      ],
      "metadata": {
        "colab": {
          "base_uri": "https://localhost:8080/"
        },
        "id": "3oB8GS8E-SNr",
        "outputId": "698dfc02-f59b-4f64-f84d-e19914a48d5a"
      },
      "execution_count": 58,
      "outputs": [
        {
          "output_type": "execute_result",
          "data": {
            "text/plain": [
              "False"
            ]
          },
          "metadata": {},
          "execution_count": 58
        }
      ]
    },
    {
      "cell_type": "markdown",
      "source": [
        "If the string contains unicode for numbers, it returns \"True\". Otherwise, it returns \"False\"."
      ],
      "metadata": {
        "id": "z9LgtjAp-YPQ"
      }
    },
    {
      "cell_type": "markdown",
      "source": [
        "### **isalnum()**\n",
        "The **isalnum()** method checks whether the string includes **only alphanumeric characters** or not. It returns \"True\" if all the characters in the string are alphanumeric, meaning alphabet letter (a-z) and numbers (0-9). If the string contains at least one Symbol or Space, it returns \"False\"."
      ],
      "metadata": {
        "id": "C3jKPR-s-xpJ"
      }
    },
    {
      "cell_type": "markdown",
      "source": [
        "To use isalnum() method, follow this syntax: **_string_.isalnum()**"
      ],
      "metadata": {
        "id": "yFB5Rfz7-xpL"
      }
    },
    {
      "cell_type": "code",
      "source": [
        "\"123abc\""
      ],
      "metadata": {
        "colab": {
          "base_uri": "https://localhost:8080/",
          "height": 35
        },
        "outputId": "998426e8-a604-4526-863b-74132fda9f37",
        "id": "GHXg_Fqt-xpL"
      },
      "execution_count": 60,
      "outputs": [
        {
          "output_type": "execute_result",
          "data": {
            "text/plain": [
              "'123abc'"
            ],
            "application/vnd.google.colaboratory.intrinsic+json": {
              "type": "string"
            }
          },
          "metadata": {},
          "execution_count": 60
        }
      ]
    },
    {
      "cell_type": "code",
      "source": [
        "\"123abc\".isalnum()"
      ],
      "metadata": {
        "colab": {
          "base_uri": "https://localhost:8080/"
        },
        "outputId": "b8518909-fd63-4dd1-ba18-0309d0d8c4ed",
        "id": "JRF7GQGb-xpM"
      },
      "execution_count": 61,
      "outputs": [
        {
          "output_type": "execute_result",
          "data": {
            "text/plain": [
              "True"
            ]
          },
          "metadata": {},
          "execution_count": 61
        }
      ]
    },
    {
      "cell_type": "markdown",
      "source": [
        "The example above returns \"True\" because the string only contains alphanumeric characters.<br>\n",
        "Now, what if the string has any symbols or spaces?"
      ],
      "metadata": {
        "id": "7sRsfBzx-xpN"
      }
    },
    {
      "cell_type": "code",
      "source": [
        "# the string contains a space\n",
        "\"123 abc\""
      ],
      "metadata": {
        "colab": {
          "base_uri": "https://localhost:8080/",
          "height": 35
        },
        "outputId": "b0f6838b-cb11-4ed7-d438-f1249966e5f4",
        "id": "0L8N9ARQ-xpO"
      },
      "execution_count": 62,
      "outputs": [
        {
          "output_type": "execute_result",
          "data": {
            "text/plain": [
              "'123 abc'"
            ],
            "application/vnd.google.colaboratory.intrinsic+json": {
              "type": "string"
            }
          },
          "metadata": {},
          "execution_count": 62
        }
      ]
    },
    {
      "cell_type": "code",
      "source": [
        "\"123 abc\".isalnum()"
      ],
      "metadata": {
        "colab": {
          "base_uri": "https://localhost:8080/"
        },
        "outputId": "ad66a5e3-f141-4ee5-d067-7739d71c29be",
        "id": "PZaZ8OvU-xpO"
      },
      "execution_count": 63,
      "outputs": [
        {
          "output_type": "execute_result",
          "data": {
            "text/plain": [
              "False"
            ]
          },
          "metadata": {},
          "execution_count": 63
        }
      ]
    },
    {
      "cell_type": "code",
      "source": [
        "# the string contains a symbol\n",
        "\"123-abc\""
      ],
      "metadata": {
        "colab": {
          "base_uri": "https://localhost:8080/",
          "height": 35
        },
        "outputId": "1ceed20d-9643-46a9-fb21-059265b8896f",
        "id": "mMsV_Q5s-xpR"
      },
      "execution_count": 64,
      "outputs": [
        {
          "output_type": "execute_result",
          "data": {
            "text/plain": [
              "'123-abc'"
            ],
            "application/vnd.google.colaboratory.intrinsic+json": {
              "type": "string"
            }
          },
          "metadata": {},
          "execution_count": 64
        }
      ]
    },
    {
      "cell_type": "code",
      "source": [
        "\"123-abc\".isalnum()"
      ],
      "metadata": {
        "colab": {
          "base_uri": "https://localhost:8080/"
        },
        "outputId": "836617da-4d73-4511-8dd9-1b70b057d47c",
        "id": "BbvhYLnr-xpR"
      },
      "execution_count": 65,
      "outputs": [
        {
          "output_type": "execute_result",
          "data": {
            "text/plain": [
              "False"
            ]
          },
          "metadata": {},
          "execution_count": 65
        }
      ]
    },
    {
      "cell_type": "markdown",
      "source": [
        "As you can see, the method returns \"False\" if the string includes at least one space or symbol."
      ],
      "metadata": {
        "id": "JEcylg_R-xpS"
      }
    },
    {
      "cell_type": "markdown",
      "source": [
        "### **isspace()**\n",
        "The **isspace()** method checks whether the string includes **only whitespaces** or not. It returns \"True\" if all characters in the string are whitespaces, meaning it could be space ( ), tab (\\t), and new line (\\n). Otherwise, it returns \"False\"."
      ],
      "metadata": {
        "id": "o8UBDPA3AQI5"
      }
    },
    {
      "cell_type": "markdown",
      "source": [
        "To use isspace() method, follow this syntax: **_string_.isspace()**"
      ],
      "metadata": {
        "id": "ItVEc9FLAQJH"
      }
    },
    {
      "cell_type": "code",
      "source": [
        "# the string contains 5 whitespaces\n",
        "\"     \".isspace()"
      ],
      "metadata": {
        "colab": {
          "base_uri": "https://localhost:8080/"
        },
        "outputId": "27a3d38a-8f56-497f-dc5b-14ec09b69d8a",
        "id": "gl-mqKGjAQJI"
      },
      "execution_count": 66,
      "outputs": [
        {
          "output_type": "execute_result",
          "data": {
            "text/plain": [
              "True"
            ]
          },
          "metadata": {},
          "execution_count": 66
        }
      ]
    },
    {
      "cell_type": "code",
      "source": [
        "# the string contains whitespace, tab and new line\n",
        "\"\\t \\n\".isspace()"
      ],
      "metadata": {
        "colab": {
          "base_uri": "https://localhost:8080/"
        },
        "outputId": "c2b5c682-f0ee-4ef5-f4aa-08a1083de636",
        "id": "gV8Opev7AQJI"
      },
      "execution_count": 68,
      "outputs": [
        {
          "output_type": "execute_result",
          "data": {
            "text/plain": [
              "True"
            ]
          },
          "metadata": {},
          "execution_count": 68
        }
      ]
    },
    {
      "cell_type": "markdown",
      "source": [
        "The example above returns \"True\" because the string only contains whitespaces.<br>\n",
        "Now, what if the string has any numbers or alphabets or symbols?"
      ],
      "metadata": {
        "id": "QY39f8oaAQJJ"
      }
    },
    {
      "cell_type": "code",
      "source": [
        "# the string contains a tab and a number\n",
        "\"\\t0\".isspace()"
      ],
      "metadata": {
        "colab": {
          "base_uri": "https://localhost:8080/"
        },
        "outputId": "88db59a4-4d77-455f-bbc7-c51fc196a45b",
        "id": "JGj3W2gaAQJJ"
      },
      "execution_count": 69,
      "outputs": [
        {
          "output_type": "execute_result",
          "data": {
            "text/plain": [
              "False"
            ]
          },
          "metadata": {},
          "execution_count": 69
        }
      ]
    },
    {
      "cell_type": "code",
      "source": [
        "# the string contains a newline and an alphabet\n",
        "\"\\na\".isspace()"
      ],
      "metadata": {
        "colab": {
          "base_uri": "https://localhost:8080/"
        },
        "outputId": "0f8eb18e-0e6c-443b-80f7-57d31eb314ae",
        "id": "KCCWMrpxAQJJ"
      },
      "execution_count": 70,
      "outputs": [
        {
          "output_type": "execute_result",
          "data": {
            "text/plain": [
              "False"
            ]
          },
          "metadata": {},
          "execution_count": 70
        }
      ]
    },
    {
      "cell_type": "code",
      "source": [
        "# the string contains a space and a symbol\n",
        "\" !\".isspace()"
      ],
      "metadata": {
        "colab": {
          "base_uri": "https://localhost:8080/"
        },
        "outputId": "5e1b975d-ca0c-4200-f5ad-a32eeb779f73",
        "id": "qBNhpUOVAQJK"
      },
      "execution_count": 71,
      "outputs": [
        {
          "output_type": "execute_result",
          "data": {
            "text/plain": [
              "False"
            ]
          },
          "metadata": {},
          "execution_count": 71
        }
      ]
    },
    {
      "cell_type": "markdown",
      "source": [
        "As you can see, the method returns \"False\" if the string includes anything other than whitespace."
      ],
      "metadata": {
        "id": "6AMElUg3AQJL"
      }
    },
    {
      "cell_type": "markdown",
      "source": [
        "### **startswith()**\n",
        "The **startswith()** method checks whether the string starts with the specified value or not. It returns \"True\" if all characters at the start of the string matches with the specified value. Otherwise, it returns \"False\"."
      ],
      "metadata": {
        "id": "p1h95Qt3B3aa"
      }
    },
    {
      "cell_type": "markdown",
      "source": [
        "To use startswith() method, follow this syntax: **_string_.startswith(_value_)**"
      ],
      "metadata": {
        "id": "BuaN5khPB3cM"
      }
    },
    {
      "cell_type": "code",
      "source": [
        "\"Hello, Everyone!\""
      ],
      "metadata": {
        "colab": {
          "base_uri": "https://localhost:8080/",
          "height": 35
        },
        "outputId": "120d79d2-3212-4503-c835-d0fab4b0dae8",
        "id": "uud-Wwk1B3cN"
      },
      "execution_count": 72,
      "outputs": [
        {
          "output_type": "execute_result",
          "data": {
            "text/plain": [
              "'Hello, Everyone!'"
            ],
            "application/vnd.google.colaboratory.intrinsic+json": {
              "type": "string"
            }
          },
          "metadata": {},
          "execution_count": 72
        }
      ]
    },
    {
      "cell_type": "code",
      "source": [
        "\"Hello, Everyone!\".startswith(\"Hell\")"
      ],
      "metadata": {
        "colab": {
          "base_uri": "https://localhost:8080/"
        },
        "outputId": "528d617b-737a-406d-e480-63895af25d7d",
        "id": "qJOdC7RRB3cP"
      },
      "execution_count": 75,
      "outputs": [
        {
          "output_type": "execute_result",
          "data": {
            "text/plain": [
              "True"
            ]
          },
          "metadata": {},
          "execution_count": 75
        }
      ]
    },
    {
      "cell_type": "markdown",
      "source": [
        "The example above returns \"True\" because the string \"Hello, Everyone!\" starts with \"Hell\".<br>\n",
        "Remember, **the value is case-sensitive**! So, if the value you specified written in different case, it returns \"False\"."
      ],
      "metadata": {
        "id": "26ViA-1HB3cQ"
      }
    },
    {
      "cell_type": "code",
      "source": [
        "\"Hello, Everyone!\".startswith(\"hell\")"
      ],
      "metadata": {
        "colab": {
          "base_uri": "https://localhost:8080/"
        },
        "outputId": "b52134f2-d721-4bff-8cea-d870e4bc2297",
        "id": "tVQoraXyB3cR"
      },
      "execution_count": 76,
      "outputs": [
        {
          "output_type": "execute_result",
          "data": {
            "text/plain": [
              "False"
            ]
          },
          "metadata": {},
          "execution_count": 76
        }
      ]
    },
    {
      "cell_type": "markdown",
      "source": [
        "### **endswith()**\n",
        "The **endswith()** method checks whether the string ends with the specified value or not. It returns \"True\" if all characters at the end of the string matches with the specified value. Otherwise, it returns \"False\"."
      ],
      "metadata": {
        "id": "v6vwZF3UDUyv"
      }
    },
    {
      "cell_type": "markdown",
      "source": [
        "To use endswith() method, follow this syntax: **_string_.endswith(_value_)**"
      ],
      "metadata": {
        "id": "ps4HojhODUzi"
      }
    },
    {
      "cell_type": "code",
      "source": [
        "\"Hello, Everyone!\""
      ],
      "metadata": {
        "colab": {
          "base_uri": "https://localhost:8080/",
          "height": 35
        },
        "outputId": "cb180c7d-5408-447e-d3c9-2a6027da4f53",
        "id": "hCZLeRoUDUzi"
      },
      "execution_count": 77,
      "outputs": [
        {
          "output_type": "execute_result",
          "data": {
            "text/plain": [
              "'Hello, Everyone!'"
            ],
            "application/vnd.google.colaboratory.intrinsic+json": {
              "type": "string"
            }
          },
          "metadata": {},
          "execution_count": 77
        }
      ]
    },
    {
      "cell_type": "code",
      "source": [
        "\"Hello, Everyone!\".endswith(\"one!\")"
      ],
      "metadata": {
        "colab": {
          "base_uri": "https://localhost:8080/"
        },
        "outputId": "b66946a2-ab57-4e55-d378-6d43d13d3169",
        "id": "HayeLN4qDUzj"
      },
      "execution_count": 78,
      "outputs": [
        {
          "output_type": "execute_result",
          "data": {
            "text/plain": [
              "True"
            ]
          },
          "metadata": {},
          "execution_count": 78
        }
      ]
    },
    {
      "cell_type": "markdown",
      "source": [
        "The example above returns \"True\" because the string \"Hello, Everyone!\" ends with \"one!\".<br>\n",
        "Remember, **the value is case-sensitive**! So, if the value you specified written in different case, it returns \"False\"."
      ],
      "metadata": {
        "id": "MAx9sAiJDUzk"
      }
    },
    {
      "cell_type": "code",
      "source": [
        "\"Hello, Everyone!\".endswith(\"One!\")"
      ],
      "metadata": {
        "colab": {
          "base_uri": "https://localhost:8080/"
        },
        "outputId": "189bd929-64e4-4eee-f9c3-98173ff5c3f3",
        "id": "RF2wFW8xDUzk"
      },
      "execution_count": 79,
      "outputs": [
        {
          "output_type": "execute_result",
          "data": {
            "text/plain": [
              "False"
            ]
          },
          "metadata": {},
          "execution_count": 79
        }
      ]
    }
  ]
}