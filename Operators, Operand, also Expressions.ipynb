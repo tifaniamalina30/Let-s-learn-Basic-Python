{
 "cells": [
  {
   "cell_type": "code",
   "execution_count": 5,
   "id": "710c2807",
   "metadata": {},
   "outputs": [
    {
     "name": "stdout",
     "output_type": "stream",
     "text": [
      "Enter x value = 20\n",
      "Enter y value = 21\n",
      "Enter z value = 30\n",
      "========================================\n",
      "Relational Operators\n",
      "\n",
      "\n",
      "Less than result =  True\n",
      "Greater than result =  False\n",
      "Less than or equal to result =  True\n",
      "Greater than or equal to result =  False\n",
      "Equal to result =  False\n",
      "Not equal to result =  True\n",
      "========================================\n"
     ]
    }
   ],
   "source": [
    "# Operator, Operands dan Expressions\n",
    "x = int(input(\"Enter x value = \"))\n",
    "y = int(input(\"Enter y value = \"))\n",
    "z = int(input(\"Enter z value = \"))\n",
    "print(\"========================================\")\n",
    "print(\"Relational Operators\")\n",
    "print(\"\\n\")\n",
    "# Relational Operators\n",
    "print(\"Less than result = \", x<y<z)\n",
    "print(\"Greater than result = \", x>y>z)\n",
    "print(\"Less than or equal to result = \", x<=y<=z)\n",
    "print(\"Greater than or equal to result = \", x>=y>=z)\n",
    "print(\"Equal to result = \", x==y==z)\n",
    "print(\"Not equal to result = \", x!=y!=z)\n",
    "print(\"========================================\")\n"
   ]
  },
  {
   "cell_type": "code",
   "execution_count": 6,
   "id": "7d0a230b",
   "metadata": {},
   "outputs": [
    {
     "name": "stdout",
     "output_type": "stream",
     "text": [
      "\n",
      "\n",
      "Arithmetic Operations\n",
      "\n",
      "\n",
      "Addition =  36\n",
      "Subtraction =  -14\n",
      "Multiplication =  1716\n",
      "Division =  0.9166666666666666\n",
      "Modulus =  11\n",
      "Exponentiation =  3138428376721\n",
      "Floor division =  0\n"
     ]
    }
   ],
   "source": [
    "print(\"\\n\")\n",
    "print(\"Arithmetic Operations\")\n",
    "print(\"\\n\")\n",
    "x = 11\n",
    "y = 12\n",
    "z = 13\n",
    "# Arithmetic Operations\n",
    "print(\"Addition = \", x+y+z)\n",
    "print(\"Subtraction = \", x-y-z)\n",
    "print(\"Multiplication = \", x*y*z)\n",
    "print(\"Division = \", x/y)\n",
    "print(\"Modulus = \", x%z)\n",
    "print(\"Exponentiation = \", x**y)\n",
    "print(\"Floor division = \", y//z)"
   ]
  },
  {
   "cell_type": "code",
   "execution_count": 2,
   "id": "15d5e069",
   "metadata": {},
   "outputs": [
    {
     "name": "stdout",
     "output_type": "stream",
     "text": [
      "Assignment Operations\n",
      "\n",
      "\n",
      "20\n",
      "0\n",
      "100\n",
      "1.0\n",
      "0\n",
      "1\n",
      "10000000000\n",
      "10\n",
      "10\n",
      "0\n",
      "0\n",
      "10240\n"
     ]
    }
   ],
   "source": [
    "print(\"Assignment Operations\")\n",
    "print(\"\\n\")\n",
    "# Assignment Operators\n",
    "x = 10\n",
    "x += 10\n",
    "print(x)\n",
    "\n",
    "x = 10\n",
    "x -= 10\n",
    "print(x)\n",
    "\n",
    "x = 10\n",
    "x *= 10\n",
    "print(x)\n",
    "\n",
    "x = 10\n",
    "x /= 10\n",
    "print(x)\n",
    "\n",
    "x = 10\n",
    "x %= 10\n",
    "print(x)\n",
    "\n",
    "x = 10\n",
    "x //= 10\n",
    "print(x)\n",
    "\n",
    "x = 10\n",
    "x **= 10\n",
    "print(x)\n",
    "\n",
    "x = 10\n",
    "x &= 10\n",
    "print(x)\n",
    "\n",
    "x = 10\n",
    "x |= 10\n",
    "print(x)\n",
    "\n",
    "x = 10\n",
    "x ^= 10\n",
    "print(x)\n",
    "\n",
    "x = 10\n",
    "x >>= 10\n",
    "print(x)\n",
    "\n",
    "x = 10\n",
    "x <<= 10\n",
    "print(x)\n"
   ]
  },
  {
   "cell_type": "code",
   "execution_count": 7,
   "id": "7d129d1c",
   "metadata": {},
   "outputs": [
    {
     "name": "stdout",
     "output_type": "stream",
     "text": [
      "Logical Operators\n",
      "\n",
      "\n",
      "\n",
      "\n",
      "Logical Operators AND\n",
      "\n",
      "\n",
      "False\n",
      "True\n",
      "False\n",
      "False\n",
      "\n",
      "\n",
      "Logical Operators OR\n",
      "\n",
      "\n",
      "True\n",
      "True\n",
      "True\n",
      "True\n",
      "\n",
      "\n",
      "Logical Operators NOT\n",
      "\n",
      "\n",
      "False\n",
      "True\n",
      "False\n"
     ]
    }
   ],
   "source": [
    "print(\"Logical Operators\")\n",
    "print(\"\\n\")\n",
    "# Logical Operators \n",
    "a = True\n",
    "b = False\n",
    "c = True\n",
    "print(\"\\n\")\n",
    "print(\"Logical Operators AND\")\n",
    "print(\"\\n\")\n",
    "# Logical Operators AND\n",
    "print(a and b)\n",
    "print(a and c)\n",
    "print(b and c)\n",
    "print(a and b and c)\n",
    "print(\"\\n\")\n",
    "print(\"Logical Operators OR\")\n",
    "print(\"\\n\")\n",
    "a = True\n",
    "b = False\n",
    "c = True\n",
    "# Logical Operators OR\n",
    "print(a or b)\n",
    "print(a or c)\n",
    "print(b or c)\n",
    "print(a or b or c)\n",
    "print(\"\\n\")\n",
    "print(\"Logical Operators NOT\")\n",
    "print(\"\\n\")\n",
    "a = True\n",
    "b = False\n",
    "c = True\n",
    "# Logical Operators NOT\n",
    "print(not a)\n",
    "print(not b)\n",
    "print(not c)"
   ]
  },
  {
   "cell_type": "code",
   "execution_count": 8,
   "id": "50c51b51",
   "metadata": {},
   "outputs": [
    {
     "name": "stdout",
     "output_type": "stream",
     "text": [
      "Identity Operators\n",
      "\n",
      "\n",
      "True\n",
      "False\n",
      "False\n"
     ]
    }
   ],
   "source": [
    "print(\"Identity Operators\")\n",
    "print(\"\\n\")\n",
    "# Identity Operators\n",
    "x = [\"ROG\", \"Legion\", \"HP\", \"Logitech\"]\n",
    "y = [\"ROG\", \"Legion\", \"HP\", \"Logitech\"]\n",
    "z = x\n",
    "\n",
    "print(x is z)\n",
    "\n",
    "print(x is y)\n",
    "\n",
    "print(z is not x)\n"
   ]
  },
  {
   "cell_type": "code",
   "execution_count": 13,
   "id": "0a67f0ce",
   "metadata": {},
   "outputs": [
    {
     "name": "stdout",
     "output_type": "stream",
     "text": [
      "Membership Operators\n",
      "\n",
      "\n",
      "True\n",
      "False\n"
     ]
    }
   ],
   "source": [
    "print(\"Membership Operators\")\n",
    "print(\"\\n\")\n",
    "# Membership Operators\n",
    "x = [\"ROG\", \"Legion\", \"HP\", \"Logitech\"]\n",
    "y = [\"ROG\", \"Legion\", \"HP\", \"Logitech\"]\n",
    "\n",
    "print(\"ROG\" in x )\n",
    "\n",
    "print(\"Legion\" not in y)"
   ]
  }
 ],
 "metadata": {
  "kernelspec": {
   "display_name": "Python 3 (ipykernel)",
   "language": "python",
   "name": "python3"
  },
  "language_info": {
   "codemirror_mode": {
    "name": "ipython",
    "version": 3
   },
   "file_extension": ".py",
   "mimetype": "text/x-python",
   "name": "python",
   "nbconvert_exporter": "python",
   "pygments_lexer": "ipython3",
   "version": "3.9.7"
  }
 },
 "nbformat": 4,
 "nbformat_minor": 5
}
