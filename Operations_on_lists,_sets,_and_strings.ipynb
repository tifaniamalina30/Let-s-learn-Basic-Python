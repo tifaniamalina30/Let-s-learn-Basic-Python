{
  "nbformat": 4,
  "nbformat_minor": 0,
  "metadata": {
    "colab": {
      "name": "Operations on lists, sets, and strings.ipynb",
      "provenance": [],
      "collapsed_sections": []
    },
    "kernelspec": {
      "name": "python3",
      "display_name": "Python 3"
    },
    "language_info": {
      "name": "python"
    }
  },
  "cells": [
    {
      "cell_type": "markdown",
      "source": [
        "**Operations on lists, sets, and strings**"
      ],
      "metadata": {
        "id": "erpsL-NSDiBz"
      }
    },
    {
      "cell_type": "markdown",
      "source": [
        "Len()"
      ],
      "metadata": {
        "id": "6jYZFP141BBp"
      }
    },
    {
      "cell_type": "code",
      "execution_count": 1,
      "metadata": {
        "id": "IKg6XIJDt4c_"
      },
      "outputs": [],
      "source": [
        "a = [3,5,5,7,7,7]"
      ]
    },
    {
      "cell_type": "code",
      "source": [
        "print(a)"
      ],
      "metadata": {
        "colab": {
          "base_uri": "https://localhost:8080/"
        },
        "id": "zLM3kbOWuTaP",
        "outputId": "c74787c9-768b-4445-d819-25204e2cbcd6"
      },
      "execution_count": 2,
      "outputs": [
        {
          "output_type": "stream",
          "name": "stdout",
          "text": [
            "[3, 5, 5, 7, 7, 7]\n"
          ]
        }
      ]
    },
    {
      "cell_type": "code",
      "source": [
        "len(a)"
      ],
      "metadata": {
        "colab": {
          "base_uri": "https://localhost:8080/"
        },
        "id": "60otqkjUugcU",
        "outputId": "1b730d42-9b7b-49ad-fd4f-0a9c534d63a4"
      },
      "execution_count": 3,
      "outputs": [
        {
          "output_type": "execute_result",
          "data": {
            "text/plain": [
              "6"
            ]
          },
          "metadata": {},
          "execution_count": 3
        }
      ]
    },
    {
      "cell_type": "code",
      "source": [
        "b={3,5,5,7,7,7}"
      ],
      "metadata": {
        "id": "sH3geOUAumHJ"
      },
      "execution_count": 4,
      "outputs": []
    },
    {
      "cell_type": "code",
      "source": [
        "print(b)"
      ],
      "metadata": {
        "colab": {
          "base_uri": "https://localhost:8080/"
        },
        "id": "nuiZCE5Buo9Z",
        "outputId": "5dcc5b7e-96db-4c1b-cbcb-cb66fd9c06ca"
      },
      "execution_count": 5,
      "outputs": [
        {
          "output_type": "stream",
          "name": "stdout",
          "text": [
            "{3, 5, 7}\n"
          ]
        }
      ]
    },
    {
      "cell_type": "code",
      "source": [
        "len(b)"
      ],
      "metadata": {
        "colab": {
          "base_uri": "https://localhost:8080/"
        },
        "id": "E1zkNhDe1Eze",
        "outputId": "6308a721-939e-42f8-dcdd-ae3befa76092"
      },
      "execution_count": 6,
      "outputs": [
        {
          "output_type": "execute_result",
          "data": {
            "text/plain": [
              "3"
            ]
          },
          "metadata": {},
          "execution_count": 6
        }
      ]
    },
    {
      "cell_type": "code",
      "source": [
        "c = \"Data Science\""
      ],
      "metadata": {
        "id": "6XKUNDI6up_R"
      },
      "execution_count": 7,
      "outputs": []
    },
    {
      "cell_type": "code",
      "source": [
        "print(c)"
      ],
      "metadata": {
        "colab": {
          "base_uri": "https://localhost:8080/"
        },
        "id": "Nqwx1KvtuuPZ",
        "outputId": "51ab773a-1e94-4c79-dfaf-fcdd8e690e9c"
      },
      "execution_count": 8,
      "outputs": [
        {
          "output_type": "stream",
          "name": "stdout",
          "text": [
            "Data Science\n"
          ]
        }
      ]
    },
    {
      "cell_type": "code",
      "source": [
        "len(c)"
      ],
      "metadata": {
        "colab": {
          "base_uri": "https://localhost:8080/"
        },
        "id": "ZfP501VEuwf_",
        "outputId": "4b7bc145-7666-4dad-f487-1fbca4106ebb"
      },
      "execution_count": 9,
      "outputs": [
        {
          "output_type": "execute_result",
          "data": {
            "text/plain": [
              "12"
            ]
          },
          "metadata": {},
          "execution_count": 9
        }
      ]
    },
    {
      "cell_type": "markdown",
      "source": [
        "Min () and Max()"
      ],
      "metadata": {
        "id": "JKhCmMQTvL9H"
      }
    },
    {
      "cell_type": "code",
      "source": [
        "a = [3,5,7]"
      ],
      "metadata": {
        "id": "CZGhXqlhvKzc"
      },
      "execution_count": 10,
      "outputs": []
    },
    {
      "cell_type": "code",
      "source": [
        "min(a)"
      ],
      "metadata": {
        "colab": {
          "base_uri": "https://localhost:8080/"
        },
        "id": "KwnyUqPPvUC_",
        "outputId": "65da801b-38cf-4260-c09f-6e00d470df7d"
      },
      "execution_count": 11,
      "outputs": [
        {
          "output_type": "execute_result",
          "data": {
            "text/plain": [
              "3"
            ]
          },
          "metadata": {},
          "execution_count": 11
        }
      ]
    },
    {
      "cell_type": "code",
      "source": [
        "max(a)"
      ],
      "metadata": {
        "colab": {
          "base_uri": "https://localhost:8080/"
        },
        "id": "Cfzle1S1vXoF",
        "outputId": "f2c7bfe5-1faf-41e2-a1aa-aac9814c1025"
      },
      "execution_count": 12,
      "outputs": [
        {
          "output_type": "execute_result",
          "data": {
            "text/plain": [
              "7"
            ]
          },
          "metadata": {},
          "execution_count": 12
        }
      ]
    },
    {
      "cell_type": "markdown",
      "source": [
        "Count()"
      ],
      "metadata": {
        "id": "WcOBU9tFvcQQ"
      }
    },
    {
      "cell_type": "code",
      "source": [
        "a = [3,5,5,7,7,7]"
      ],
      "metadata": {
        "id": "8pyMDLcBvdml"
      },
      "execution_count": 13,
      "outputs": []
    },
    {
      "cell_type": "code",
      "source": [
        "a.count(5)"
      ],
      "metadata": {
        "colab": {
          "base_uri": "https://localhost:8080/"
        },
        "id": "ht8mYbAdvgYC",
        "outputId": "14fa0bd3-5cb0-4715-d27d-87c4f44cd8a7"
      },
      "execution_count": 14,
      "outputs": [
        {
          "output_type": "execute_result",
          "data": {
            "text/plain": [
              "2"
            ]
          },
          "metadata": {},
          "execution_count": 14
        }
      ]
    },
    {
      "cell_type": "code",
      "source": [
        "c = \"Data Science\""
      ],
      "metadata": {
        "id": "jtSyC7ssvj5n"
      },
      "execution_count": 15,
      "outputs": []
    },
    {
      "cell_type": "code",
      "source": [
        "c.count(\"a\")"
      ],
      "metadata": {
        "colab": {
          "base_uri": "https://localhost:8080/"
        },
        "id": "xxHKdLt8vmVF",
        "outputId": "107aa4aa-9f10-41e0-bce6-0ba44c1db3c1"
      },
      "execution_count": 16,
      "outputs": [
        {
          "output_type": "execute_result",
          "data": {
            "text/plain": [
              "2"
            ]
          },
          "metadata": {},
          "execution_count": 16
        }
      ]
    },
    {
      "cell_type": "markdown",
      "source": [
        "Merging and Replication"
      ],
      "metadata": {
        "id": "tdT0BQCQv7UG"
      }
    },
    {
      "cell_type": "code",
      "source": [
        "a = [3,5,5,7,7,7]"
      ],
      "metadata": {
        "id": "njsc0S9Kv8xO"
      },
      "execution_count": 17,
      "outputs": []
    },
    {
      "cell_type": "code",
      "source": [
        "d = [\"d\",\"a\",\"t\",\"a\"]"
      ],
      "metadata": {
        "id": "IkA2CRTOwEIK"
      },
      "execution_count": 18,
      "outputs": []
    },
    {
      "cell_type": "code",
      "source": [
        "a + d"
      ],
      "metadata": {
        "colab": {
          "base_uri": "https://localhost:8080/"
        },
        "id": "tgHEBfj1wFrl",
        "outputId": "970e8f09-b198-42a2-bfaa-ceda215cda67"
      },
      "execution_count": 19,
      "outputs": [
        {
          "output_type": "execute_result",
          "data": {
            "text/plain": [
              "[3, 5, 5, 7, 7, 7, 'd', 'a', 't', 'a']"
            ]
          },
          "metadata": {},
          "execution_count": 19
        }
      ]
    },
    {
      "cell_type": "code",
      "source": [
        "d*2"
      ],
      "metadata": {
        "colab": {
          "base_uri": "https://localhost:8080/"
        },
        "id": "Hj7bz1eHwLyj",
        "outputId": "3a22e52b-d759-4a9e-948a-0c1d042f3c5e"
      },
      "execution_count": 20,
      "outputs": [
        {
          "output_type": "execute_result",
          "data": {
            "text/plain": [
              "['d', 'a', 't', 'a', 'd', 'a', 't', 'a']"
            ]
          },
          "metadata": {},
          "execution_count": 20
        }
      ]
    },
    {
      "cell_type": "code",
      "source": [
        "three = [3]*3"
      ],
      "metadata": {
        "id": "Xe8p6u6QwO3I"
      },
      "execution_count": 21,
      "outputs": []
    },
    {
      "cell_type": "code",
      "source": [
        "print(three)"
      ],
      "metadata": {
        "colab": {
          "base_uri": "https://localhost:8080/"
        },
        "id": "iZAstnUHwRAC",
        "outputId": "450c99d8-aeef-4c2c-85bc-79711ba39bf6"
      },
      "execution_count": 22,
      "outputs": [
        {
          "output_type": "stream",
          "name": "stdout",
          "text": [
            "[3, 3, 3]\n"
          ]
        }
      ]
    },
    {
      "cell_type": "code",
      "source": [
        "len(three)"
      ],
      "metadata": {
        "colab": {
          "base_uri": "https://localhost:8080/"
        },
        "id": "coq41iqXwXr3",
        "outputId": "78543b86-d394-4348-f92f-22e8e167fdac"
      },
      "execution_count": 23,
      "outputs": [
        {
          "output_type": "execute_result",
          "data": {
            "text/plain": [
              "3"
            ]
          },
          "metadata": {},
          "execution_count": 23
        }
      ]
    },
    {
      "cell_type": "markdown",
      "source": [
        "Range"
      ],
      "metadata": {
        "id": "AUqxJiffwcKn"
      }
    },
    {
      "cell_type": "code",
      "source": [
        "for i in range(3):\n",
        "  print(i)"
      ],
      "metadata": {
        "colab": {
          "base_uri": "https://localhost:8080/"
        },
        "id": "qCepA4YHwdwY",
        "outputId": "a90530d2-fd11-4c22-d305-0654a14c621b"
      },
      "execution_count": 24,
      "outputs": [
        {
          "output_type": "stream",
          "name": "stdout",
          "text": [
            "0\n",
            "1\n",
            "2\n"
          ]
        }
      ]
    },
    {
      "cell_type": "code",
      "source": [
        "for i in range(0,10):\n",
        "  print(i)"
      ],
      "metadata": {
        "colab": {
          "base_uri": "https://localhost:8080/"
        },
        "id": "4hRvjYMHwo6E",
        "outputId": "70fd0c18-bccb-4f0b-da19-748549a54341"
      },
      "execution_count": 25,
      "outputs": [
        {
          "output_type": "stream",
          "name": "stdout",
          "text": [
            "0\n",
            "1\n",
            "2\n",
            "3\n",
            "4\n",
            "5\n",
            "6\n",
            "7\n",
            "8\n",
            "9\n"
          ]
        }
      ]
    },
    {
      "cell_type": "code",
      "source": [
        "for i in range(0,10,2):\n",
        "  print(i)"
      ],
      "metadata": {
        "colab": {
          "base_uri": "https://localhost:8080/"
        },
        "id": "-GUc8vEuwrKS",
        "outputId": "9ed6ec8c-8e1f-47d4-cb1e-46084c82a176"
      },
      "execution_count": 26,
      "outputs": [
        {
          "output_type": "stream",
          "name": "stdout",
          "text": [
            "0\n",
            "2\n",
            "4\n",
            "6\n",
            "8\n"
          ]
        }
      ]
    },
    {
      "cell_type": "markdown",
      "source": [
        "In and Not In"
      ],
      "metadata": {
        "id": "K0U-_TtHwvvT"
      }
    },
    {
      "cell_type": "code",
      "source": [
        "family = \"father and mother\""
      ],
      "metadata": {
        "id": "SASQuD2xwx-4"
      },
      "execution_count": 27,
      "outputs": []
    },
    {
      "cell_type": "code",
      "source": [
        "\"father\" in family"
      ],
      "metadata": {
        "colab": {
          "base_uri": "https://localhost:8080/"
        },
        "id": "-KPLo1IXxQ8L",
        "outputId": "5d8caee0-8ea7-46c0-efce-5d7991537569"
      },
      "execution_count": 28,
      "outputs": [
        {
          "output_type": "execute_result",
          "data": {
            "text/plain": [
              "True"
            ]
          },
          "metadata": {},
          "execution_count": 28
        }
      ]
    },
    {
      "cell_type": "code",
      "source": [
        "\"mother\" in family"
      ],
      "metadata": {
        "colab": {
          "base_uri": "https://localhost:8080/"
        },
        "id": "D8diSzVyxZrI",
        "outputId": "5b3ed6d7-ad02-471b-dc09-d6cc2dcc1785"
      },
      "execution_count": 29,
      "outputs": [
        {
          "output_type": "execute_result",
          "data": {
            "text/plain": [
              "True"
            ]
          },
          "metadata": {},
          "execution_count": 29
        }
      ]
    },
    {
      "cell_type": "code",
      "source": [
        "\"father\" not in family"
      ],
      "metadata": {
        "colab": {
          "base_uri": "https://localhost:8080/"
        },
        "id": "Vbk-FEgAxdgs",
        "outputId": "ab7d381f-b57e-4c3a-d1f5-6e58ba68da11"
      },
      "execution_count": 30,
      "outputs": [
        {
          "output_type": "execute_result",
          "data": {
            "text/plain": [
              "False"
            ]
          },
          "metadata": {},
          "execution_count": 30
        }
      ]
    },
    {
      "cell_type": "code",
      "source": [
        "\"mother\" not in family"
      ],
      "metadata": {
        "colab": {
          "base_uri": "https://localhost:8080/"
        },
        "id": "WhGhT1V2xmCv",
        "outputId": "464a5997-aa1c-43d9-dfbe-429eca5da899"
      },
      "execution_count": 31,
      "outputs": [
        {
          "output_type": "execute_result",
          "data": {
            "text/plain": [
              "False"
            ]
          },
          "metadata": {},
          "execution_count": 31
        }
      ]
    },
    {
      "cell_type": "markdown",
      "source": [
        "Assign values to multiple variables"
      ],
      "metadata": {
        "id": "osi9325ExqjQ"
      }
    },
    {
      "cell_type": "code",
      "source": [
        "Food = [\"Fried rice\", \"Chicken sausage\", \"Spicy\"]"
      ],
      "metadata": {
        "id": "f0iVHKpRx3mU"
      },
      "execution_count": 32,
      "outputs": []
    },
    {
      "cell_type": "code",
      "source": [
        "print(Food)"
      ],
      "metadata": {
        "colab": {
          "base_uri": "https://localhost:8080/"
        },
        "id": "1wgl8kDFyaqO",
        "outputId": "656b16b9-335d-4742-fe35-0e6ad6e63e58"
      },
      "execution_count": 33,
      "outputs": [
        {
          "output_type": "stream",
          "name": "stdout",
          "text": [
            "['Fried rice', 'Chicken sausage', 'Spicy']\n"
          ]
        }
      ]
    },
    {
      "cell_type": "code",
      "source": [
        "Food[0]"
      ],
      "metadata": {
        "colab": {
          "base_uri": "https://localhost:8080/",
          "height": 35
        },
        "id": "B2eA8JFDzSsX",
        "outputId": "90b3bf9e-cb9b-44e5-c8f8-648fcdbde750"
      },
      "execution_count": 34,
      "outputs": [
        {
          "output_type": "execute_result",
          "data": {
            "text/plain": [
              "'Fried rice'"
            ],
            "application/vnd.google.colaboratory.intrinsic+json": {
              "type": "string"
            }
          },
          "metadata": {},
          "execution_count": 34
        }
      ]
    },
    {
      "cell_type": "code",
      "source": [
        "Food[1]"
      ],
      "metadata": {
        "colab": {
          "base_uri": "https://localhost:8080/",
          "height": 35
        },
        "id": "a5Sj1NG_zZoT",
        "outputId": "a7311213-96f8-4a4c-b48f-0fff8770473d"
      },
      "execution_count": 35,
      "outputs": [
        {
          "output_type": "execute_result",
          "data": {
            "text/plain": [
              "'Chicken sausage'"
            ],
            "application/vnd.google.colaboratory.intrinsic+json": {
              "type": "string"
            }
          },
          "metadata": {},
          "execution_count": 35
        }
      ]
    },
    {
      "cell_type": "code",
      "source": [
        "Food[2]"
      ],
      "metadata": {
        "colab": {
          "base_uri": "https://localhost:8080/",
          "height": 35
        },
        "id": "ANOZz_LSzbX-",
        "outputId": "fa9a1b10-cd5f-4186-8969-ec0097e94316"
      },
      "execution_count": 36,
      "outputs": [
        {
          "output_type": "execute_result",
          "data": {
            "text/plain": [
              "'Spicy'"
            ],
            "application/vnd.google.colaboratory.intrinsic+json": {
              "type": "string"
            }
          },
          "metadata": {},
          "execution_count": 36
        }
      ]
    },
    {
      "cell_type": "code",
      "source": [
        "name = Food[0]"
      ],
      "metadata": {
        "id": "-6V5TJlLzlvb"
      },
      "execution_count": 37,
      "outputs": []
    },
    {
      "cell_type": "code",
      "source": [
        "print(name)"
      ],
      "metadata": {
        "colab": {
          "base_uri": "https://localhost:8080/"
        },
        "id": "ja6h81jYztTz",
        "outputId": "c3624dce-b969-4e23-ed94-775e00a32123"
      },
      "execution_count": 38,
      "outputs": [
        {
          "output_type": "stream",
          "name": "stdout",
          "text": [
            "Fried rice\n"
          ]
        }
      ]
    },
    {
      "cell_type": "code",
      "source": [
        "topping = Food[1]"
      ],
      "metadata": {
        "id": "1l_rEq8nzxgk"
      },
      "execution_count": 39,
      "outputs": []
    },
    {
      "cell_type": "code",
      "source": [
        "print(topping)"
      ],
      "metadata": {
        "colab": {
          "base_uri": "https://localhost:8080/"
        },
        "id": "sRIrxXOIz2Aq",
        "outputId": "3d7a8609-11c0-46e6-c264-70ffab2c9346"
      },
      "execution_count": 40,
      "outputs": [
        {
          "output_type": "stream",
          "name": "stdout",
          "text": [
            "Chicken sausage\n"
          ]
        }
      ]
    },
    {
      "cell_type": "code",
      "source": [
        "taste = Food[2]"
      ],
      "metadata": {
        "id": "mYbeUslWz5TR"
      },
      "execution_count": 41,
      "outputs": []
    },
    {
      "cell_type": "code",
      "source": [
        "print(taste)"
      ],
      "metadata": {
        "colab": {
          "base_uri": "https://localhost:8080/"
        },
        "id": "L0342mqy0Qh8",
        "outputId": "4486337b-e4a1-45f4-9e82-61386bf87ff6"
      },
      "execution_count": 42,
      "outputs": [
        {
          "output_type": "stream",
          "name": "stdout",
          "text": [
            "Spicy\n"
          ]
        }
      ]
    },
    {
      "cell_type": "markdown",
      "source": [
        "Assign values to multiple variables 2"
      ],
      "metadata": {
        "id": "lBPHN4GU0U0N"
      }
    },
    {
      "cell_type": "code",
      "source": [
        "Food = [\"Fried rice\", \"Chicken sausage\", \"Spicy\"]"
      ],
      "metadata": {
        "id": "7nd-P4TQ0Xdv"
      },
      "execution_count": 43,
      "outputs": []
    },
    {
      "cell_type": "code",
      "source": [
        "name, topping, taste = Food"
      ],
      "metadata": {
        "id": "rUEFJ46k0t6F"
      },
      "execution_count": 44,
      "outputs": []
    },
    {
      "cell_type": "code",
      "source": [
        "print(name)"
      ],
      "metadata": {
        "colab": {
          "base_uri": "https://localhost:8080/"
        },
        "id": "hMTvDBfK00mx",
        "outputId": "0caae7f9-2281-4cd5-d1b2-72066d55f053"
      },
      "execution_count": 45,
      "outputs": [
        {
          "output_type": "stream",
          "name": "stdout",
          "text": [
            "Fried rice\n"
          ]
        }
      ]
    },
    {
      "cell_type": "code",
      "source": [
        "print(taste)"
      ],
      "metadata": {
        "colab": {
          "base_uri": "https://localhost:8080/"
        },
        "id": "LgZ1QX5M02KS",
        "outputId": "bebc9dfd-5973-459b-a929-a607835cbfbf"
      },
      "execution_count": 46,
      "outputs": [
        {
          "output_type": "stream",
          "name": "stdout",
          "text": [
            "Spicy\n"
          ]
        }
      ]
    },
    {
      "cell_type": "code",
      "source": [
        "print(taste)"
      ],
      "metadata": {
        "colab": {
          "base_uri": "https://localhost:8080/"
        },
        "id": "ng-wJMmU04HV",
        "outputId": "801591f7-5b69-436c-d58f-1c35b2798af7"
      },
      "execution_count": 47,
      "outputs": [
        {
          "output_type": "stream",
          "name": "stdout",
          "text": [
            "Spicy\n"
          ]
        }
      ]
    },
    {
      "cell_type": "markdown",
      "source": [
        "Assign values to multiple variables 3"
      ],
      "metadata": {
        "id": "5UuMG7sI1SzA"
      }
    },
    {
      "cell_type": "code",
      "source": [
        "face, characteristic = \"attractive\", \"good\""
      ],
      "metadata": {
        "id": "su_luN6T1FDi"
      },
      "execution_count": 48,
      "outputs": []
    },
    {
      "cell_type": "code",
      "source": [
        "face, characteristic = characteristic, face"
      ],
      "metadata": {
        "id": "YN01hiAV1wIU"
      },
      "execution_count": 49,
      "outputs": []
    },
    {
      "cell_type": "code",
      "source": [
        "face"
      ],
      "metadata": {
        "colab": {
          "base_uri": "https://localhost:8080/",
          "height": 35
        },
        "id": "ANKzCY-X13cb",
        "outputId": "2d2d56bb-180c-4bb1-8e98-d2e968c2b5f9"
      },
      "execution_count": 50,
      "outputs": [
        {
          "output_type": "execute_result",
          "data": {
            "text/plain": [
              "'good'"
            ],
            "application/vnd.google.colaboratory.intrinsic+json": {
              "type": "string"
            }
          },
          "metadata": {},
          "execution_count": 50
        }
      ]
    },
    {
      "cell_type": "code",
      "source": [
        "characteristic"
      ],
      "metadata": {
        "colab": {
          "base_uri": "https://localhost:8080/",
          "height": 35
        },
        "id": "cfYRMjio15uS",
        "outputId": "c64a1fb4-7976-4815-a46e-c9be3c059d8b"
      },
      "execution_count": 51,
      "outputs": [
        {
          "output_type": "execute_result",
          "data": {
            "text/plain": [
              "'attractive'"
            ],
            "application/vnd.google.colaboratory.intrinsic+json": {
              "type": "string"
            }
          },
          "metadata": {},
          "execution_count": 51
        }
      ]
    },
    {
      "cell_type": "markdown",
      "source": [
        "Sort()"
      ],
      "metadata": {
        "id": "aVAahfqP1_S0"
      }
    },
    {
      "cell_type": "code",
      "source": [
        "a = [40,20,30,10,50]"
      ],
      "metadata": {
        "id": "zdGhnwd62Ay5"
      },
      "execution_count": 52,
      "outputs": []
    },
    {
      "cell_type": "code",
      "source": [
        "print(a)"
      ],
      "metadata": {
        "colab": {
          "base_uri": "https://localhost:8080/"
        },
        "id": "5yCCe1F42HAl",
        "outputId": "c332b24f-7c68-4d88-a7eb-ad1adc33ac8a"
      },
      "execution_count": 53,
      "outputs": [
        {
          "output_type": "stream",
          "name": "stdout",
          "text": [
            "[40, 20, 30, 10, 50]\n"
          ]
        }
      ]
    },
    {
      "cell_type": "code",
      "source": [
        "a.sort()"
      ],
      "metadata": {
        "id": "hyz5oTv32LGY"
      },
      "execution_count": 54,
      "outputs": []
    },
    {
      "cell_type": "code",
      "source": [
        "print(a)"
      ],
      "metadata": {
        "colab": {
          "base_uri": "https://localhost:8080/"
        },
        "id": "AYUJ5mWb2Oot",
        "outputId": "23347d77-8ca2-4908-890a-bc1192b547b3"
      },
      "execution_count": 55,
      "outputs": [
        {
          "output_type": "stream",
          "name": "stdout",
          "text": [
            "[10, 20, 30, 40, 50]\n"
          ]
        }
      ]
    },
    {
      "cell_type": "code",
      "source": [
        "b = [\"d\", \"i\", \"a\"]"
      ],
      "metadata": {
        "id": "-F2U5vG-2X-n"
      },
      "execution_count": 56,
      "outputs": []
    },
    {
      "cell_type": "code",
      "source": [
        "b.sort()"
      ],
      "metadata": {
        "id": "5x5Xt6zx2bhG"
      },
      "execution_count": 57,
      "outputs": []
    },
    {
      "cell_type": "code",
      "source": [
        "print(b)"
      ],
      "metadata": {
        "colab": {
          "base_uri": "https://localhost:8080/"
        },
        "id": "FkLsGxhG2iE5",
        "outputId": "08a2cec0-1f9e-441e-86ca-cc1810d2a8d5"
      },
      "execution_count": 58,
      "outputs": [
        {
          "output_type": "stream",
          "name": "stdout",
          "text": [
            "['a', 'd', 'i']\n"
          ]
        }
      ]
    },
    {
      "cell_type": "code",
      "source": [
        "b.sort(reverse=True)"
      ],
      "metadata": {
        "id": "kxb-76EC2lKS"
      },
      "execution_count": 59,
      "outputs": []
    },
    {
      "cell_type": "code",
      "source": [
        "print(b)"
      ],
      "metadata": {
        "colab": {
          "base_uri": "https://localhost:8080/"
        },
        "id": "VCv26yfI2zGS",
        "outputId": "492c0c81-17b2-4b54-e781-258d746407dd"
      },
      "execution_count": 60,
      "outputs": [
        {
          "output_type": "stream",
          "name": "stdout",
          "text": [
            "['i', 'd', 'a']\n"
          ]
        }
      ]
    },
    {
      "cell_type": "code",
      "source": [
        "name = [\"Budi\", \"calvin\", \"andi\"]"
      ],
      "metadata": {
        "id": "10VJqkZ_206p"
      },
      "execution_count": 61,
      "outputs": []
    },
    {
      "cell_type": "code",
      "source": [
        "name.sort()"
      ],
      "metadata": {
        "id": "uqeT_FAc25dw"
      },
      "execution_count": 62,
      "outputs": []
    },
    {
      "cell_type": "code",
      "source": [
        "print(name)"
      ],
      "metadata": {
        "colab": {
          "base_uri": "https://localhost:8080/"
        },
        "id": "L2oGiDvZ28GT",
        "outputId": "4007b7d5-d643-4131-9621-a80ab75eb010"
      },
      "execution_count": 63,
      "outputs": [
        {
          "output_type": "stream",
          "name": "stdout",
          "text": [
            "['Budi', 'andi', 'calvin']\n"
          ]
        }
      ]
    },
    {
      "cell_type": "code",
      "source": [
        "name.sort(key=str.lower)"
      ],
      "metadata": {
        "id": "oVKZ15he3AUS"
      },
      "execution_count": 64,
      "outputs": []
    },
    {
      "cell_type": "code",
      "source": [
        "print(name)"
      ],
      "metadata": {
        "colab": {
          "base_uri": "https://localhost:8080/"
        },
        "id": "_R4l32Oy3DNX",
        "outputId": "1c03fa8f-cccd-4dab-9111-86ae87be9595"
      },
      "execution_count": 65,
      "outputs": [
        {
          "output_type": "stream",
          "name": "stdout",
          "text": [
            "['andi', 'Budi', 'calvin']\n"
          ]
        }
      ]
    }
  ]
}